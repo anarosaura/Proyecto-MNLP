{
 "cells": [
  {
   "cell_type": "markdown",
   "source": [
    "<img style=\"float: left; margin: 30px 15px 15px 15px;\" src=\"https://encrypted-tbn0.gstatic.com/images?q=tbn:ANd9GcTFzQj91sOlkeDFkg5HDbjtR4QJYmLXkfMNig&usqp=CAU\" width=\"700\" height=\"200\" />\n",
    "\n",
    "\n",
    "### <font color='navy'> Modelos no lineales para pronósticos.\n",
    "\n",
    "**Nombres:**\n",
    "- Zamarrón Álvarez, Ana Rosaura\n",
    "- Castillejos Jauregui, Claudia Celeste\n",
    "\n",
    "**Fecha:** 24 de abril del 2023.\n",
    "\n",
    "**Expediente** :\n",
    "- 736222\n",
    "- 735868\n",
    "\n",
    "**Profesor:** Oscar David Jaramillo Zuluaga."
   ],
   "metadata": {
    "collapsed": false,
    "id": "gkbOjoGAltOO"
   }
  },
  {
   "cell_type": "code",
   "execution_count": 1,
   "outputs": [
    {
     "name": "stderr",
     "output_type": "stream",
     "text": [
      "2023-05-11 23:22:05.842958: I tensorflow/core/platform/cpu_feature_guard.cc:193] This TensorFlow binary is optimized with oneAPI Deep Neural Network Library (oneDNN) to use the following CPU instructions in performance-critical operations:  AVX2 FMA\n",
      "To enable them in other operations, rebuild TensorFlow with the appropriate compiler flags.\n"
     ]
    }
   ],
   "source": [
    "import pandas as pd\n",
    "import numpy as np\n",
    "import matplotlib.pyplot as plt\n",
    "from keras.models import Sequential\n",
    "from keras.layers import Dense, Flatten, LSTM, Conv1D, MaxPooling1D\n",
    "from keras.layers import ConvLSTM2D\n",
    "from keras.callbacks import EarlyStopping\n",
    "from imblearn.over_sampling import SMOTE"
   ],
   "metadata": {
    "id": "H-Ae6V0WltOc"
   }
  },
  {
   "cell_type": "code",
   "execution_count": 3,
   "outputs": [
    {
     "data": {
      "text/plain": "              DateTime  Junction  Vehicles           ID\n0  2015-11-01 00:00:00         1        15  20151101001\n1  2015-11-01 01:00:00         1        13  20151101011\n2  2015-11-01 02:00:00         1        10  20151101021\n3  2015-11-01 03:00:00         1         7  20151101031\n4  2015-11-01 04:00:00         1         9  20151101041",
      "text/html": "<div>\n<style scoped>\n    .dataframe tbody tr th:only-of-type {\n        vertical-align: middle;\n    }\n\n    .dataframe tbody tr th {\n        vertical-align: top;\n    }\n\n    .dataframe thead th {\n        text-align: right;\n    }\n</style>\n<table border=\"1\" class=\"dataframe\">\n  <thead>\n    <tr style=\"text-align: right;\">\n      <th></th>\n      <th>DateTime</th>\n      <th>Junction</th>\n      <th>Vehicles</th>\n      <th>ID</th>\n    </tr>\n  </thead>\n  <tbody>\n    <tr>\n      <th>0</th>\n      <td>2015-11-01 00:00:00</td>\n      <td>1</td>\n      <td>15</td>\n      <td>20151101001</td>\n    </tr>\n    <tr>\n      <th>1</th>\n      <td>2015-11-01 01:00:00</td>\n      <td>1</td>\n      <td>13</td>\n      <td>20151101011</td>\n    </tr>\n    <tr>\n      <th>2</th>\n      <td>2015-11-01 02:00:00</td>\n      <td>1</td>\n      <td>10</td>\n      <td>20151101021</td>\n    </tr>\n    <tr>\n      <th>3</th>\n      <td>2015-11-01 03:00:00</td>\n      <td>1</td>\n      <td>7</td>\n      <td>20151101031</td>\n    </tr>\n    <tr>\n      <th>4</th>\n      <td>2015-11-01 04:00:00</td>\n      <td>1</td>\n      <td>9</td>\n      <td>20151101041</td>\n    </tr>\n  </tbody>\n</table>\n</div>"
     },
     "execution_count": 3,
     "metadata": {},
     "output_type": "execute_result"
    }
   ],
   "source": [
    "# Cargamos los datos\n",
    "data = pd.read_csv(\"./traffic.csv\")\n",
    "data.head()"
   ],
   "metadata": {
    "id": "U4Xnho06ltOd",
    "outputId": "7d1182d7-2d88-4ab0-8be1-53997fc92f91",
    "colab": {
     "base_uri": "https://localhost:8080/",
     "height": 206
    }
   }
  },
  {
   "cell_type": "markdown",
   "source": [
    "## EDA"
   ],
   "metadata": {
    "collapsed": false
   }
  },
  {
   "cell_type": "code",
   "source": [
    "# El tamaño del arreglo \n",
    "data.shape"
   ],
   "metadata": {
    "colab": {
     "base_uri": "https://localhost:8080/"
    },
    "id": "OdwQlRDIESWK",
    "outputId": "cd55d878-004a-45f7-ab6a-60a86e0cb3f4"
   },
   "execution_count": 4,
   "outputs": [
    {
     "data": {
      "text/plain": "(48120, 4)"
     },
     "execution_count": 4,
     "metadata": {},
     "output_type": "execute_result"
    }
   ]
  },
  {
   "cell_type": "code",
   "source": [
    "#Ver el tipo de dato de las variables\n",
    "data.dtypes"
   ],
   "metadata": {
    "colab": {
     "base_uri": "https://localhost:8080/"
    },
    "id": "ecTz3-cQEUeu",
    "outputId": "00a3c2c3-fd3e-4f24-d261-a642c60049be"
   },
   "execution_count": 5,
   "outputs": [
    {
     "data": {
      "text/plain": "DateTime    object\nJunction     int64\nVehicles     int64\nID           int64\ndtype: object"
     },
     "execution_count": 5,
     "metadata": {},
     "output_type": "execute_result"
    }
   ]
  },
  {
   "cell_type": "code",
   "execution_count": 6,
   "outputs": [],
   "source": [
    "# Cambiar el tipo de dato de las variables necesarias\n",
    "data[\"ID\"] = data[\"ID\"].astype(\"object\")\n",
    "data[\"DateTime\"] = pd.to_datetime(data['DateTime'])"
   ],
   "metadata": {
    "id": "3b7VBBKtltOe"
   }
  },
  {
   "cell_type": "code",
   "execution_count": 7,
   "outputs": [
    {
     "data": {
      "text/plain": "DateTime    datetime64[ns]\nJunction             int64\nVehicles             int64\nID                  object\ndtype: object"
     },
     "execution_count": 7,
     "metadata": {},
     "output_type": "execute_result"
    }
   ],
   "source": [
    "# Ver el resultado del cambio en el tipo de variable \n",
    "data.dtypes"
   ],
   "metadata": {
    "id": "6OaWBMPvltOe",
    "outputId": "273b5356-dbea-4335-bb01-0f2d123964c6",
    "colab": {
     "base_uri": "https://localhost:8080/"
    }
   }
  },
  {
   "cell_type": "code",
   "execution_count": 8,
   "outputs": [
    {
     "data": {
      "text/plain": "           Junction      Vehicles\ncount  48120.000000  48120.000000\nmean       2.180549     22.791334\nstd        0.966955     20.750063\nmin        1.000000      1.000000\n25%        1.000000      9.000000\n50%        2.000000     15.000000\n75%        3.000000     29.000000\nmax        4.000000    180.000000",
      "text/html": "<div>\n<style scoped>\n    .dataframe tbody tr th:only-of-type {\n        vertical-align: middle;\n    }\n\n    .dataframe tbody tr th {\n        vertical-align: top;\n    }\n\n    .dataframe thead th {\n        text-align: right;\n    }\n</style>\n<table border=\"1\" class=\"dataframe\">\n  <thead>\n    <tr style=\"text-align: right;\">\n      <th></th>\n      <th>Junction</th>\n      <th>Vehicles</th>\n    </tr>\n  </thead>\n  <tbody>\n    <tr>\n      <th>count</th>\n      <td>48120.000000</td>\n      <td>48120.000000</td>\n    </tr>\n    <tr>\n      <th>mean</th>\n      <td>2.180549</td>\n      <td>22.791334</td>\n    </tr>\n    <tr>\n      <th>std</th>\n      <td>0.966955</td>\n      <td>20.750063</td>\n    </tr>\n    <tr>\n      <th>min</th>\n      <td>1.000000</td>\n      <td>1.000000</td>\n    </tr>\n    <tr>\n      <th>25%</th>\n      <td>1.000000</td>\n      <td>9.000000</td>\n    </tr>\n    <tr>\n      <th>50%</th>\n      <td>2.000000</td>\n      <td>15.000000</td>\n    </tr>\n    <tr>\n      <th>75%</th>\n      <td>3.000000</td>\n      <td>29.000000</td>\n    </tr>\n    <tr>\n      <th>max</th>\n      <td>4.000000</td>\n      <td>180.000000</td>\n    </tr>\n  </tbody>\n</table>\n</div>"
     },
     "execution_count": 8,
     "metadata": {},
     "output_type": "execute_result"
    }
   ],
   "source": [
    "# Descripción de las variables numéricas\n",
    "data.describe()"
   ],
   "metadata": {
    "id": "hZZ392maltOf",
    "outputId": "2b5e55fa-8b7b-4f1d-fa7d-39773683631d",
    "colab": {
     "base_uri": "https://localhost:8080/",
     "height": 300
    }
   }
  },
  {
   "cell_type": "code",
   "source": [
    "# Vemos los valores de la columna date+time\n",
    "data[\"DateTime\"].value_counts()"
   ],
   "metadata": {
    "colab": {
     "base_uri": "https://localhost:8080/"
    },
    "id": "HfBbs48EFDkk",
    "outputId": "a0382572-35ff-4870-b621-1b3108cc8ffe"
   },
   "execution_count": 9,
   "outputs": [
    {
     "data": {
      "text/plain": "2017-06-30 23:00:00    4\n2017-03-02 02:00:00    4\n2017-03-02 16:00:00    4\n2017-03-02 15:00:00    4\n2017-03-02 14:00:00    4\n                      ..\n2016-05-21 19:00:00    3\n2016-05-21 20:00:00    3\n2016-05-21 21:00:00    3\n2016-05-21 22:00:00    3\n2016-08-31 00:00:00    3\nName: DateTime, Length: 14592, dtype: int64"
     },
     "execution_count": 9,
     "metadata": {},
     "output_type": "execute_result"
    }
   ]
  },
  {
   "cell_type": "code",
   "source": [
    "# Ver los registros con esa fecha\n",
    "data[data[\"DateTime\"] == \"2017-06-30 23:00:00\"]"
   ],
   "metadata": {
    "colab": {
     "base_uri": "https://localhost:8080/",
     "height": 175
    },
    "id": "44eq5eQoFNif",
    "outputId": "5d08bd79-a0a9-47b2-8a87-d205dd5f69c1"
   },
   "execution_count": 10,
   "outputs": [
    {
     "data": {
      "text/plain": "                 DateTime  Junction  Vehicles           ID\n14591 2017-06-30 23:00:00         1        78  20170630231\n29183 2017-06-30 23:00:00         2        27  20170630232\n43775 2017-06-30 23:00:00         3        39  20170630233\n48119 2017-06-30 23:00:00         4        12  20170630234",
      "text/html": "<div>\n<style scoped>\n    .dataframe tbody tr th:only-of-type {\n        vertical-align: middle;\n    }\n\n    .dataframe tbody tr th {\n        vertical-align: top;\n    }\n\n    .dataframe thead th {\n        text-align: right;\n    }\n</style>\n<table border=\"1\" class=\"dataframe\">\n  <thead>\n    <tr style=\"text-align: right;\">\n      <th></th>\n      <th>DateTime</th>\n      <th>Junction</th>\n      <th>Vehicles</th>\n      <th>ID</th>\n    </tr>\n  </thead>\n  <tbody>\n    <tr>\n      <th>14591</th>\n      <td>2017-06-30 23:00:00</td>\n      <td>1</td>\n      <td>78</td>\n      <td>20170630231</td>\n    </tr>\n    <tr>\n      <th>29183</th>\n      <td>2017-06-30 23:00:00</td>\n      <td>2</td>\n      <td>27</td>\n      <td>20170630232</td>\n    </tr>\n    <tr>\n      <th>43775</th>\n      <td>2017-06-30 23:00:00</td>\n      <td>3</td>\n      <td>39</td>\n      <td>20170630233</td>\n    </tr>\n    <tr>\n      <th>48119</th>\n      <td>2017-06-30 23:00:00</td>\n      <td>4</td>\n      <td>12</td>\n      <td>20170630234</td>\n    </tr>\n  </tbody>\n</table>\n</div>"
     },
     "execution_count": 10,
     "metadata": {},
     "output_type": "execute_result"
    }
   ]
  },
  {
   "cell_type": "code",
   "source": [
    "# Ver los registros con esa fecha\n",
    "data[data[\"DateTime\"] == \"2017-03-02 02:00:00\"]"
   ],
   "metadata": {
    "colab": {
     "base_uri": "https://localhost:8080/",
     "height": 175
    },
    "id": "iDybD8dpFWII",
    "outputId": "6646f466-ab9d-4410-85e2-1926048a6bcb"
   },
   "execution_count": 11,
   "outputs": [
    {
     "data": {
      "text/plain": "                 DateTime  Junction  Vehicles           ID\n11690 2017-03-02 02:00:00         1        50  20170302021\n26282 2017-03-02 02:00:00         2        24  20170302022\n40874 2017-03-02 02:00:00         3        11  20170302023\n45218 2017-03-02 02:00:00         4         5  20170302024",
      "text/html": "<div>\n<style scoped>\n    .dataframe tbody tr th:only-of-type {\n        vertical-align: middle;\n    }\n\n    .dataframe tbody tr th {\n        vertical-align: top;\n    }\n\n    .dataframe thead th {\n        text-align: right;\n    }\n</style>\n<table border=\"1\" class=\"dataframe\">\n  <thead>\n    <tr style=\"text-align: right;\">\n      <th></th>\n      <th>DateTime</th>\n      <th>Junction</th>\n      <th>Vehicles</th>\n      <th>ID</th>\n    </tr>\n  </thead>\n  <tbody>\n    <tr>\n      <th>11690</th>\n      <td>2017-03-02 02:00:00</td>\n      <td>1</td>\n      <td>50</td>\n      <td>20170302021</td>\n    </tr>\n    <tr>\n      <th>26282</th>\n      <td>2017-03-02 02:00:00</td>\n      <td>2</td>\n      <td>24</td>\n      <td>20170302022</td>\n    </tr>\n    <tr>\n      <th>40874</th>\n      <td>2017-03-02 02:00:00</td>\n      <td>3</td>\n      <td>11</td>\n      <td>20170302023</td>\n    </tr>\n    <tr>\n      <th>45218</th>\n      <td>2017-03-02 02:00:00</td>\n      <td>4</td>\n      <td>5</td>\n      <td>20170302024</td>\n    </tr>\n  </tbody>\n</table>\n</div>"
     },
     "execution_count": 11,
     "metadata": {},
     "output_type": "execute_result"
    }
   ]
  },
  {
   "cell_type": "markdown",
   "source": [
    "Las fechas se repiten para cada junction. Nos quedaremos con una sola serie , la de Junction 1."
   ],
   "metadata": {
    "id": "OpjsmYBcM5eu"
   }
  },
  {
   "cell_type": "code",
   "source": [
    "# Reducimos la base de datos\n",
    "junction1 = data[data[\"Junction\"] == 1]\n",
    "junction1.shape"
   ],
   "metadata": {
    "colab": {
     "base_uri": "https://localhost:8080/"
    },
    "id": "xQJBL5g0GLsv",
    "outputId": "73c16fba-bcca-4d89-a1b6-06da421a2c50"
   },
   "execution_count": 12,
   "outputs": [
    {
     "data": {
      "text/plain": "(14592, 4)"
     },
     "execution_count": 12,
     "metadata": {},
     "output_type": "execute_result"
    }
   ]
  },
  {
   "cell_type": "code",
   "source": [
    "#Hacemos una reducción de la base de datos\n",
    "timeseries = junction1[[\"DateTime\", \"Vehicles\"]].set_index('DateTime')\n",
    "timeseries.head()"
   ],
   "metadata": {
    "colab": {
     "base_uri": "https://localhost:8080/",
     "height": 237
    },
    "id": "wsW5swjlMk1k",
    "outputId": "a26dd27a-75fd-41b7-8127-8c5c1dbaaa8e"
   },
   "execution_count": 13,
   "outputs": [
    {
     "data": {
      "text/plain": "                     Vehicles\nDateTime                     \n2015-11-01 00:00:00        15\n2015-11-01 01:00:00        13\n2015-11-01 02:00:00        10\n2015-11-01 03:00:00         7\n2015-11-01 04:00:00         9",
      "text/html": "<div>\n<style scoped>\n    .dataframe tbody tr th:only-of-type {\n        vertical-align: middle;\n    }\n\n    .dataframe tbody tr th {\n        vertical-align: top;\n    }\n\n    .dataframe thead th {\n        text-align: right;\n    }\n</style>\n<table border=\"1\" class=\"dataframe\">\n  <thead>\n    <tr style=\"text-align: right;\">\n      <th></th>\n      <th>Vehicles</th>\n    </tr>\n    <tr>\n      <th>DateTime</th>\n      <th></th>\n    </tr>\n  </thead>\n  <tbody>\n    <tr>\n      <th>2015-11-01 00:00:00</th>\n      <td>15</td>\n    </tr>\n    <tr>\n      <th>2015-11-01 01:00:00</th>\n      <td>13</td>\n    </tr>\n    <tr>\n      <th>2015-11-01 02:00:00</th>\n      <td>10</td>\n    </tr>\n    <tr>\n      <th>2015-11-01 03:00:00</th>\n      <td>7</td>\n    </tr>\n    <tr>\n      <th>2015-11-01 04:00:00</th>\n      <td>9</td>\n    </tr>\n  </tbody>\n</table>\n</div>"
     },
     "execution_count": 13,
     "metadata": {},
     "output_type": "execute_result"
    }
   ]
  },
  {
   "cell_type": "code",
   "source": [
    "# Graficamos la serie de tiempo \n",
    "plt.figure(figsize=(17,7))\n",
    "plt.plot(timeseries)\n",
    "plt.title(\"Junction 1 Vehicles Timeserie\")"
   ],
   "metadata": {
    "colab": {
     "base_uri": "https://localhost:8080/",
     "height": 639
    },
    "id": "VZ8WNsHcG59E",
    "outputId": "119ee4c7-8218-44b4-d8ba-4b09e1e1cde6"
   },
   "execution_count": 14,
   "outputs": [
    {
     "data": {
      "text/plain": "Text(0.5, 1.0, 'Junction 1 Vehicles Timeserie')"
     },
     "execution_count": 14,
     "metadata": {},
     "output_type": "execute_result"
    },
    {
     "data": {
      "text/plain": "<Figure size 1224x504 with 1 Axes>",
      "image/png": "[encoded data removed]"
     },
     "metadata": {},
     "output_type": "display_data"
    }
   ]
  },
  {
   "cell_type": "code",
   "execution_count": 15,
   "outputs": [
    {
     "data": {
      "text/plain": "array([[<AxesSubplot:title={'center':'Vehicles'}>]], dtype=object)"
     },
     "execution_count": 15,
     "metadata": {},
     "output_type": "execute_result"
    },
    {
     "data": {
      "text/plain": "<Figure size 432x288 with 1 Axes>",
      "image/png": "[encoded data removed]"
     },
     "metadata": {},
     "output_type": "display_data"
    }
   ],
   "source": [
    "# Histogramas\n",
    "timeseries.hist(bins=50)"
   ],
   "metadata": {
    "id": "il0XDd6EltOg",
    "outputId": "f167b15e-1500-4d0c-e576-9741592b545d",
    "colab": {
     "base_uri": "https://localhost:8080/",
     "height": 469
    }
   }
  },
  {
   "cell_type": "code",
   "execution_count": 16,
   "outputs": [
    {
     "data": {
      "text/plain": "<AxesSubplot:>"
     },
     "execution_count": 16,
     "metadata": {},
     "output_type": "execute_result"
    },
    {
     "data": {
      "text/plain": "<Figure size 432x288 with 1 Axes>",
      "image/png": "[encoded data removed]"
     },
     "metadata": {},
     "output_type": "display_data"
    }
   ],
   "source": [
    "# Distribución de las varibales numéricas\n",
    "timeseries.boxplot()"
   ],
   "metadata": {
    "id": "gDLBXWFfltOg",
    "outputId": "3db7ec8f-453a-4706-93c0-a2364e2a15f1",
    "colab": {
     "base_uri": "https://localhost:8080/",
     "height": 447
    }
   }
  },
  {
   "cell_type": "markdown",
   "source": [
    "Tenemos varios outliers pero no consideramos que haga falta eliminarlas o tratarlas."
   ],
   "metadata": {
    "id": "I3j73Nw_PgC3"
   }
  },
  {
   "cell_type": "code",
   "execution_count": 17,
   "outputs": [
    {
     "data": {
      "text/plain": "           Vehicles\ncount  14592.000000\nmean      45.052906\nstd       23.008345\nmin        5.000000\n25%       27.000000\n50%       40.000000\n75%       59.000000\nmax      156.000000",
      "text/html": "<div>\n<style scoped>\n    .dataframe tbody tr th:only-of-type {\n        vertical-align: middle;\n    }\n\n    .dataframe tbody tr th {\n        vertical-align: top;\n    }\n\n    .dataframe thead th {\n        text-align: right;\n    }\n</style>\n<table border=\"1\" class=\"dataframe\">\n  <thead>\n    <tr style=\"text-align: right;\">\n      <th></th>\n      <th>Vehicles</th>\n    </tr>\n  </thead>\n  <tbody>\n    <tr>\n      <th>count</th>\n      <td>14592.000000</td>\n    </tr>\n    <tr>\n      <th>mean</th>\n      <td>45.052906</td>\n    </tr>\n    <tr>\n      <th>std</th>\n      <td>23.008345</td>\n    </tr>\n    <tr>\n      <th>min</th>\n      <td>5.000000</td>\n    </tr>\n    <tr>\n      <th>25%</th>\n      <td>27.000000</td>\n    </tr>\n    <tr>\n      <th>50%</th>\n      <td>40.000000</td>\n    </tr>\n    <tr>\n      <th>75%</th>\n      <td>59.000000</td>\n    </tr>\n    <tr>\n      <th>max</th>\n      <td>156.000000</td>\n    </tr>\n  </tbody>\n</table>\n</div>"
     },
     "execution_count": 17,
     "metadata": {},
     "output_type": "execute_result"
    }
   ],
   "source": [
    "# Descripción de las variables numéricas\n",
    "timeseries.describe()"
   ],
   "metadata": {
    "id": "N2cNRCdtltOh",
    "outputId": "1082fc61-8446-44c5-e312-3d3bb327dbb4",
    "colab": {
     "base_uri": "https://localhost:8080/",
     "height": 300
    }
   }
  },
  {
   "cell_type": "code",
   "source": [],
   "metadata": {
    "id": "IDil4xZlXryB"
   },
   "execution_count": 17,
   "outputs": []
  },
  {
   "cell_type": "code",
   "source": [],
   "metadata": {
    "id": "GLkezkDZXrY8"
   },
   "execution_count": 16,
   "outputs": []
  },
  {
   "cell_type": "code",
   "source": [],
   "metadata": {
    "id": "CJ9PMdKrXrKI"
   },
   "execution_count": 16,
   "outputs": []
  },
  {
   "cell_type": "code",
   "source": [],
   "metadata": {
    "id": "eQ58ZtXIXq_u"
   },
   "execution_count": 16,
   "outputs": []
  },
  {
   "cell_type": "code",
   "source": [],
   "metadata": {
    "id": "QU2tO0hWXqxW"
   },
   "execution_count": 16,
   "outputs": []
  },
  {
   "cell_type": "markdown",
   "source": [
    "## Modelos lineales"
   ],
   "metadata": {
    "collapsed": false,
    "id": "HdT1V4CBltOn"
   }
  },
  {
   "cell_type": "code",
   "execution_count": 16,
   "outputs": [],
   "source": [],
   "metadata": {
    "id": "55ZT6CVhltOn"
   }
  },
  {
   "cell_type": "code",
   "execution_count": 16,
   "outputs": [],
   "source": [],
   "metadata": {
    "id": "HrmpB19nltOn"
   }
  },
  {
   "cell_type": "code",
   "execution_count": 16,
   "outputs": [],
   "source": [],
   "metadata": {
    "id": "TQMRUbBdltOn"
   }
  },
  {
   "cell_type": "code",
   "execution_count": 16,
   "outputs": [],
   "source": [],
   "metadata": {
    "id": "lcgFAevsltOo"
   }
  },
  {
   "cell_type": "code",
   "execution_count": 16,
   "outputs": [],
   "source": [],
   "metadata": {
    "id": "3GmVlHKoltOo"
   }
  },
  {
   "cell_type": "code",
   "execution_count": 16,
   "outputs": [],
   "source": [],
   "metadata": {
    "id": "KiMZk8IhltOo"
   }
  },
  {
   "cell_type": "markdown",
   "source": [
    "## Modelos no lineales\n",
    "Se crearan diferentes modelos no lineales:\n",
    "- MLP\n",
    "- CNN\n",
    "- LSTM Vanilla\n",
    "- LSTM Stacked\n",
    "- LSTM Bidirectional\n",
    "- CNN-LSTM\n",
    "- ConvLSTM"
   ],
   "metadata": {
    "id": "R8vKRLaBL4oG"
   }
  },
  {
   "cell_type": "markdown",
   "source": [
    "#### MLP"
   ],
   "metadata": {
    "id": "SGS0slK6qUUt"
   }
  },
  {
   "cell_type": "code",
   "execution_count": 17,
   "outputs": [],
   "source": [
    "from sklearn.preprocessing import power_transform\n",
    "from statsmodels.stats.diagnostic import kstest_normal"
   ],
   "metadata": {
    "collapsed": false
   }
  },
  {
   "cell_type": "code",
   "execution_count": 18,
   "outputs": [
    {
     "name": "stdout",
     "output_type": "stream",
     "text": [
      "significance: 0.0010\n"
     ]
    },
    {
     "data": {
      "text/plain": "<Figure size 432x288 with 1 Axes>",
      "image/png": "[encoded data removed]"
     },
     "metadata": {},
     "output_type": "display_data"
    }
   ],
   "source": [
    "vals_bc = power_transform(timeseries, method='box-cox')\n",
    "\n",
    "_, p = kstest_normal(vals_bc.squeeze())\n",
    "print(f\"significance: {p:.4f}\")\n",
    "plt.hist(vals_bc, bins=50, density=True)\n",
    "plt.ylabel(\"frequency\")\n",
    "plt.xlabel(\"value range\");"
   ],
   "metadata": {
    "collapsed": false
   }
  },
  {
   "cell_type": "code",
   "source": [
    "# dividir una secuencia univariada en muestras\n",
    "def split_univariate_sequence(sequence, n_steps):\n",
    "    X, y = list(), list()\n",
    "    for i in range(len(sequence)):\n",
    "        # encontrar el final de este patrón\n",
    "        end_ix = i + n_steps\n",
    "\n",
    "        # comprobar si estamos más allá de la secuencia\n",
    "        if end_ix > len(sequence)-1:\n",
    "            break\n",
    "        # reunir partes de entrada y salida del patrón\n",
    "        seq_x, seq_y = sequence[i:end_ix], sequence[end_ix]\n",
    "        X.append(seq_x)\n",
    "        y.append(seq_y)\n",
    "    return np.array(X), np.array(y)"
   ],
   "metadata": {
    "id": "f1hNEpIdL7tS"
   },
   "execution_count": 19,
   "outputs": []
  },
  {
   "cell_type": "code",
   "source": [
    "plt.plot(vals_bc)"
   ],
   "metadata": {
    "colab": {
     "base_uri": "https://localhost:8080/",
     "height": 447
    },
    "id": "biF78rfQ2Nn5",
    "outputId": "0bc80297-8481-43f7-cd17-32369ffc679a"
   },
   "execution_count": 20,
   "outputs": [
    {
     "data": {
      "text/plain": "[<matplotlib.lines.Line2D at 0x7f7f2918b190>]"
     },
     "execution_count": 20,
     "metadata": {},
     "output_type": "execute_result"
    },
    {
     "data": {
      "text/plain": "<Figure size 432x288 with 1 Axes>",
      "image/png": "[encoded data removed]"
     },
     "metadata": {},
     "output_type": "display_data"
    }
   ]
  },
  {
   "cell_type": "code",
   "source": [
    "# Elegir un número de pasos de tiempo\n",
    "n_steps = 3\n",
    "# Dividir en muestras\n",
    "X, y = split_univariate_sequence(vals_bc, n_steps)\n",
    "\n",
    "print('X', X, 'y', y, sep='\\n')"
   ],
   "metadata": {
    "colab": {
     "base_uri": "https://localhost:8080/"
    },
    "id": "NXKOyligqK5L",
    "outputId": "23288147-6f41-4bb6-d34c-e347008fadec"
   },
   "execution_count": 21,
   "outputs": [
    {
     "name": "stdout",
     "output_type": "stream",
     "text": [
      "X\n",
      "[[[-1.67867827]\n",
      "  [-1.88844909]\n",
      "  [-2.25500586]]\n",
      "\n",
      " [[-1.88844909]\n",
      "  [-2.25500586]\n",
      "  [-2.71806446]]\n",
      "\n",
      " [[-2.25500586]\n",
      "  [-2.71806446]\n",
      "  [-2.39589795]]\n",
      "\n",
      " ...\n",
      "\n",
      " [[ 1.77549711]\n",
      "  [ 2.00961311]\n",
      "  [ 1.79973176]]\n",
      "\n",
      " [[ 2.00961311]\n",
      "  [ 1.79973176]\n",
      "  [ 1.65131936]]\n",
      "\n",
      " [[ 1.79973176]\n",
      "  [ 1.65131936]\n",
      "  [ 1.49516005]]]\n",
      "y\n",
      "[[-2.71806446]\n",
      " [-2.39589795]\n",
      " [-2.9063654 ]\n",
      " ...\n",
      " [ 1.65131936]\n",
      " [ 1.49516005]\n",
      " [ 1.33024985]]\n"
     ]
    }
   ]
  },
  {
   "cell_type": "code",
   "source": [
    "# Definimos el modelo\n",
    "import keras\n",
    "import tensorflow as tf\n",
    "from sklearn.model_selection import train_test_split"
   ],
   "metadata": {
    "id": "nkyexMgfqKqF"
   },
   "execution_count": 24,
   "outputs": []
  },
  {
   "cell_type": "code",
   "source": [
    "def split_dataset(X, y):\n",
    "    \"\"\"\n",
    "    Función que se encarga de dividir la data ingresada en datos de entrenamiento, validación y prueba.\n",
    "    :param data: Data con la información de la serie de tiempo a analizar.\n",
    "    \"\"\"\n",
    "    X_train, X_test, y_train, y_test = train_test_split(X, y, test_size=0.2, random_state=42)\n",
    "    X_train, X_val, y_train, y_val = train_test_split(X_train, y_train, test_size=0.1, random_state=42)\n",
    "\n",
    "    return X_train, y_train, X_val, y_val, X_test, y_test"
   ],
   "metadata": {
    "id": "fX2rhH8WqKkf"
   },
   "execution_count": 25,
   "outputs": []
  },
  {
   "cell_type": "code",
   "source": [
    "X_train, y_train, X_val, y_val, X_test, y_test = split_dataset(X, y)\n",
    "print(\"X_train shape:\", X_train.shape, \"\\ny_train shape:\",y_train.shape,\"\\nX_val shape: \", X_val.shape, \"\\ny_val shape:\", y_val.shape, \"\\nX_test shape:\",X_test.shape, \"\\ny_test shape:\",y_test.shape)"
   ],
   "metadata": {
    "colab": {
     "base_uri": "https://localhost:8080/"
    },
    "id": "l9m-iUftqKeW",
    "outputId": "3d3f2427-7246-45ed-d0e6-3579c89518f7"
   },
   "execution_count": 26,
   "outputs": [
    {
     "name": "stdout",
     "output_type": "stream",
     "text": [
      "X_train shape: (10503, 3, 1) \n",
      "y_train shape: (10503, 1) \n",
      "X_val shape:  (1168, 3, 1) \n",
      "y_val shape: (1168, 1) \n",
      "X_test shape: (2918, 3, 1) \n",
      "y_test shape: (2918, 1)\n"
     ]
    }
   ]
  },
  {
   "cell_type": "code",
   "source": [
    "def cnn(n_steps, X_train, y_train, X_val, y_val, X_test, y_test):\n",
    "    model = keras.models.Sequential([\n",
    "        keras.layers.Input(n_steps),\n",
    "        keras.layers.Dense(256, activation='relu'),\n",
    "        keras.layers.Dense(128, activation='relu'),\n",
    "        keras.layers.Dense(64, activation='relu'),\n",
    "        keras.layers.Dense(32, activation='relu'),\n",
    "        keras.layers.Dense(1)\n",
    "    ])\n",
    "\n",
    "    # Compilar el modelo y definir métricas y funciones de pérdida\n",
    "    model.compile(optimizer='adam', loss='mape', metrics=\"mse\")\n",
    "\n",
    "    # Resumir el modelo compilado\n",
    "    model.summary()\n",
    "\n",
    "    history1 = model.fit(X_train, y_train, validation_data=(X_val, y_val), epochs=100, verbose=False)\n",
    "\n",
    "    # Analizar función de pérdida\n",
    "    plt.plot(history1.history['loss'], 'r--', label='loss')\n",
    "    plt.xlabel('epochs')\n",
    "    plt.ylabel('loss')\n",
    "    plt.legend()\n",
    "    plt.show()\n",
    "\n",
    "    # Analizar las métricas\n",
    "    plt.plot(history1.history['mse'], 'r--', label='loss')\n",
    "    plt.xlabel('epochs')\n",
    "    plt.ylabel('mse')\n",
    "    plt.legend()\n",
    "    plt.show()\n",
    "\n",
    "    # Evaluar el modelo en el conjunto de prueba\n",
    "    test_mape_score, test_mse_score = model.evaluate(X_test, y_test)\n",
    "    return test_mape_score, test_mse_score\n"
   ],
   "metadata": {
    "id": "ktwEg5lOqKUG"
   },
   "execution_count": null,
   "outputs": []
  },
  {
   "cell_type": "code",
   "source": [
    "test_mape_score, test_mse_score = cnn(n_steps, X_train, y_train, X_val, y_val, X_test, y_test)\n",
    "print('MAPE en el conjunto de prueba:', test_mape_score)\n",
    "print('MSE en el conjunto de prueba:', test_mse_score)"
   ],
   "metadata": {
    "colab": {
     "base_uri": "https://localhost:8080/"
    },
    "id": "EnVL7VMxqKLb",
    "outputId": "4865a703-9a53-47e3-8323-1b8f40648d3a"
   },
   "execution_count": 41,
   "outputs": [
    {
     "name": "stdout",
     "output_type": "stream",
     "text": [
      "Model: \"sequential_3\"\n",
      "_________________________________________________________________\n",
      " Layer (type)                Output Shape              Param #   \n",
      "=================================================================\n",
      " dense_2 (Dense)             (None, 256)               1024      \n",
      "                                                                 \n",
      " dense_3 (Dense)             (None, 128)               32896     \n",
      "                                                                 \n",
      " dense_4 (Dense)             (None, 64)                8256      \n",
      "                                                                 \n",
      " dense_5 (Dense)             (None, 32)                2080      \n",
      "                                                                 \n",
      " dense_6 (Dense)             (None, 1)                 33        \n",
      "                                                                 \n",
      "=================================================================\n",
      "Total params: 44,289\n",
      "Trainable params: 44,289\n",
      "Non-trainable params: 0\n",
      "_________________________________________________________________\n"
     ]
    },
    {
     "data": {
      "text/plain": "<Figure size 432x288 with 1 Axes>",
      "image/png": "[encoded data removed]"
     },
     "metadata": {},
     "output_type": "display_data"
    },
    {
     "data": {
      "text/plain": "<Figure size 432x288 with 1 Axes>",
      "image/png": "[encoded data removed]"
     },
     "metadata": {},
     "output_type": "display_data"
    },
    {
     "name": "stdout",
     "output_type": "stream",
     "text": [
      "92/92 [==============================] - 0s 3ms/step - loss: 57.5414 - mse: 0.0902\n",
      "MAPE en el conjunto de prueba: 57.5413932800293\n",
      "MSE en el conjunto de prueba: 0.0901796966791153\n"
     ]
    }
   ]
  },
  {
   "cell_type": "markdown",
   "source": [
    "#### CNN"
   ],
   "metadata": {
    "id": "b7vqBReR07VR"
   }
  },
  {
   "cell_type": "code",
   "source": [
    "# Definir la secuencia de entrada\n",
    "raw_seq = vals_bc.tolist()\n",
    "# Elegir un número de pasos de tiempo\n",
    "n_steps = 3\n",
    "# Número de características de mis datos\n",
    "n_features = 1\n",
    "# Dividir en muestras\n",
    "X, y = split_univariate_sequence(raw_seq, n_steps)\n",
    "\n",
    "print('X', X, 'y', y, sep='\\n')"
   ],
   "metadata": {
    "colab": {
     "base_uri": "https://localhost:8080/"
    },
    "id": "4RGSneF001v_",
    "outputId": "2d4b8ae8-9287-41c3-efe3-701fa7fdd544"
   },
   "execution_count": 53,
   "outputs": [
    {
     "name": "stdout",
     "output_type": "stream",
     "text": [
      "X\n",
      "[[[-1.67867827]\n",
      "  [-1.88844909]\n",
      "  [-2.25500586]]\n",
      "\n",
      " [[-1.88844909]\n",
      "  [-2.25500586]\n",
      "  [-2.71806446]]\n",
      "\n",
      " [[-2.25500586]\n",
      "  [-2.71806446]\n",
      "  [-2.39589795]]\n",
      "\n",
      " ...\n",
      "\n",
      " [[ 1.77549711]\n",
      "  [ 2.00961311]\n",
      "  [ 1.79973176]]\n",
      "\n",
      " [[ 2.00961311]\n",
      "  [ 1.79973176]\n",
      "  [ 1.65131936]]\n",
      "\n",
      " [[ 1.79973176]\n",
      "  [ 1.65131936]\n",
      "  [ 1.49516005]]]\n",
      "y\n",
      "[[-2.71806446]\n",
      " [-2.39589795]\n",
      " [-2.9063654 ]\n",
      " ...\n",
      " [ 1.65131936]\n",
      " [ 1.49516005]\n",
      " [ 1.33024985]]\n"
     ]
    }
   ]
  },
  {
   "cell_type": "code",
   "source": [
    "def modelo_cnn(n_steps, X_train, y_train, X_val, y_val, X_test, y_test)\n",
    "    # Definimos el modelo\n",
    "    model_1 = Sequential()\n",
    "    model_1.add(Conv1D(64, 2, activation='relu', input_shape=(n_steps, n_features)))\n",
    "    model_1.add(Dense(32, activation='relu'))\n",
    "    model_1.add(MaxPooling1D())\n",
    "    model_1.add(Flatten())\n",
    "    model_1.add(Dense(1))\n",
    "\n",
    "    model_1.summary()\n",
    "\n",
    "    # Compilar el modelo y definir métricas y funciones de pérdida\n",
    "    model_1.compile(\n",
    "    optimizer=keras.optimizers.Adam(learning_rate=0.001), loss='mape', metrics=['mse'])\n",
    "\n",
    "    h = model_1.fit(X_train, y_train, validation_data=(X_val, y_val), epochs=100, verbose=False)\n",
    "\n",
    "    # Analizar función de pérdida\n",
    "    plt.plot(h.history['loss'], 'r--', label='loss')\n",
    "    plt.xlabel('epochs')\n",
    "    plt.ylabel('loss')\n",
    "    plt.legend()\n",
    "    plt.show()\n",
    "\n",
    "    # Analizar las métricas\n",
    "    plt.plot(h.history['mse'], 'r--', label='loss')\n",
    "    plt.xlabel('epochs')\n",
    "    plt.ylabel('mse')\n",
    "    plt.legend()\n",
    "    plt.show()\n",
    "\n",
    "    # Evaluar el modelo en el conjunto de prueba\n",
    "    test_mape_score, test_mse_score = model_1.evaluate(X_test, y_test)\n",
    "    return test_mape_score, test_mse_score"
   ],
   "metadata": {
    "id": "rsGXecmM01Y-"
   },
   "execution_count": 29,
   "outputs": []
  },
  {
   "cell_type": "code",
   "source": [
    "cnn_test_mape_score1, cnn_test_mse_score1 = modelo_cnn(n_steps, X_train, y_train, X_val, y_val, X_test, y_test)\n",
    "print('MAPE en el conjunto de prueba:', cnn_test_mape_score1)\n",
    "print('MSE en el conjunto de prueba:', cnn_test_mse_score1)"
   ],
   "metadata": {
    "colab": {
     "base_uri": "https://localhost:8080/",
     "height": 1000
    },
    "id": "rb-CCu4n01Dp",
    "outputId": "7287ead8-771f-4fc5-ec4f-6d6b5215a883"
   },
   "execution_count": 30,
   "outputs": [
    {
     "name": "stdout",
     "output_type": "stream",
     "text": [
      "Model: \"sequential_1\"\n",
      "_________________________________________________________________\n",
      " Layer (type)                Output Shape              Param #   \n",
      "=================================================================\n",
      " conv1d (Conv1D)             (None, 2, 64)             192       \n",
      "                                                                 \n",
      " dense_5 (Dense)             (None, 2, 32)             2080      \n",
      "                                                                 \n",
      " max_pooling1d (MaxPooling1D  (None, 1, 32)            0         \n",
      " )                                                               \n",
      "                                                                 \n",
      " flatten (Flatten)           (None, 32)                0         \n",
      "                                                                 \n",
      " dense_6 (Dense)             (None, 1)                 33        \n",
      "                                                                 \n",
      "=================================================================\n",
      "Total params: 2,305\n",
      "Trainable params: 2,305\n",
      "Non-trainable params: 0\n",
      "_________________________________________________________________\n"
     ]
    },
    {
     "data": {
      "text/plain": "<Figure size 432x288 with 1 Axes>",
      "image/png": "[encoded data removed]"
     },
     "metadata": {},
     "output_type": "display_data"
    },
    {
     "data": {
      "text/plain": "<Figure size 432x288 with 1 Axes>",
      "image/png": "[encoded data removed]"
     },
     "metadata": {},
     "output_type": "display_data"
    },
    {
     "name": "stdout",
     "output_type": "stream",
     "text": [
      "92/92 [==============================] - 0s 3ms/step - loss: 58.6882 - mse: 0.0954\n",
      "MAPE en el conjunto de prueba: 58.68818664550781\n",
      "MSE en el conjunto de prueba: 0.09535227715969086\n"
     ]
    }
   ]
  },
  {
   "cell_type": "markdown",
   "source": [
    "#### LSTM"
   ],
   "metadata": {
    "id": "jd54Z9SV4ulI"
   }
  },
  {
   "cell_type": "code",
   "execution_count": 41,
   "outputs": [],
   "source": [
    "from keras.callbacks import EarlyStopping, ModelCheckpoint\n",
    "from keras.layers import Bidirectional"
   ],
   "metadata": {
    "collapsed": false
   }
  },
  {
   "cell_type": "code",
   "source": [
    "LSTM_earlystop = EarlyStopping(monitor='loss', min_delta=0, patience=15)"
   ],
   "metadata": {
    "colab": {
     "base_uri": "https://localhost:8080/",
     "height": 166
    },
    "id": "SynzZiv6yVSp",
    "outputId": "9d9e8f0e-a074-41ed-8dfd-2ccca955bb52"
   },
   "execution_count": 41,
   "outputs": []
  },
  {
   "cell_type": "code",
   "source": [
    "def vanilla(n_steps, X_train, y_train, X_val, y_val, X_test, y_test):\n",
    "    # Definimos el modelo\n",
    "    rnn_model_1 = Sequential()\n",
    "    rnn_model_1.add(LSTM(100, activation='relu', input_shape=(n_steps, n_features)))\n",
    "    rnn_model_1.add(Dense(1))\n",
    "    rnn_model_1.compile(optimizer='RMSprop', loss='mse')\n",
    "\n",
    "    # plot_model(rnn_model_1, show_shapes=True)\n",
    "\n",
    "    # Compilar el modelo y definir métricas y funciones de pérdida\n",
    "    rnn_model_1.compile(optimizer=keras.optimizers.Adam(learning_rate=0.005), loss='mape', metrics=['mse'])\n",
    "\n",
    "    h = rnn_model_1.fit(X_train, y_train, validation_data=(X_val, y_val), epochs=100, callbacks=[LSTM_earlystop], verbose=False)\n",
    "\n",
    "    # Analizar función de pérdida\n",
    "    plt.plot(h.history['loss'], 'b--', label='loss')\n",
    "    plt.xlabel('epochs')\n",
    "    plt.ylabel('loss')\n",
    "    plt.legend()\n",
    "    plt.show()\n",
    "\n",
    "    # Analizar las métricas\n",
    "    plt.plot(h.history['mse'], 'b--', label='loss')\n",
    "    plt.xlabel('epochs')\n",
    "    plt.ylabel('mse')\n",
    "    plt.legend()\n",
    "    plt.show()\n",
    "\n",
    "    # Evaluar el modelo en el conjunto de prueba\n",
    "    test_mape_score, test_mse_score = rnn_model_1.evaluate(X_test, y_test)\n",
    "    return test_mape_score, test_mse_score"
   ],
   "metadata": {
    "id": "uCAdz7Wv5Gm_"
   },
   "execution_count": 36,
   "outputs": []
  },
  {
   "cell_type": "code",
   "source": [
    "vanilla_test_mape_score, vanilla_test_mse_score = vanilla(n_steps,X_train, y_train, X_val, y_val, X_test, y_test)\n",
    "print('MAPE en el conjunto de prueba:', vanilla_test_mape_score)\n",
    "print('MSE en el conjunto de prueba:', vanilla_test_mse_score)"
   ],
   "metadata": {
    "id": "mGnn7UUT5F7M"
   },
   "execution_count": 37,
   "outputs": [
    {
     "data": {
      "text/plain": "<Figure size 432x288 with 1 Axes>",
      "image/png": "[encoded data removed]"
     },
     "metadata": {},
     "output_type": "display_data"
    },
    {
     "data": {
      "text/plain": "<Figure size 432x288 with 1 Axes>",
      "image/png": "[encoded data removed]"
     },
     "metadata": {},
     "output_type": "display_data"
    },
    {
     "name": "stdout",
     "output_type": "stream",
     "text": [
      "92/92 [==============================] - 0s 3ms/step - loss: 56.1820 - mse: 0.0912\n",
      "MAPE en el conjunto de prueba: 56.18199920654297\n",
      "MSE en el conjunto de prueba: 0.0912097841501236\n"
     ]
    }
   ]
  },
  {
   "cell_type": "markdown",
   "source": [
    "#### Stacked"
   ],
   "metadata": {
    "collapsed": false
   }
  },
  {
   "cell_type": "code",
   "source": [
    "def stacked(n_steps, X_train, y_train, X_val, y_val, X_test, y_test):\n",
    "    # Definimos el modelo\n",
    "    rnn_model_2 = Sequential()\n",
    "    rnn_model_2.add(LSTM(128, activation='relu', return_sequences=True, input_shape=(n_steps, n_features)))\n",
    "    rnn_model_2.add(LSTM(64, activation='relu'))\n",
    "    rnn_model_2.add(Dense(1))\n",
    "    rnn_model_2.compile(optimizer='RMSprop', loss='mse')\n",
    "\n",
    "    rnn_model_2.summary()\n",
    "\n",
    "    # Compilar el modelo y definir métricas y funciones de pérdida\n",
    "    rnn_model_2.compile(optimizer=keras.optimizers.Adam(learning_rate=0.005), loss='mape', metrics=['mse'])\n",
    "\n",
    "    h = rnn_model_2.fit(X_train, y_train, validation_data=(X_val, y_val), epochs=100, callbacks=[LSTM_earlystop], verbose=False)\n",
    "\n",
    "    # Analizar función de pérdida\n",
    "    plt.plot(h.history['loss'], 'b--', label='loss')\n",
    "    plt.xlabel('epochs')\n",
    "    plt.ylabel('loss')\n",
    "    plt.legend()\n",
    "    plt.show()\n",
    "\n",
    "    # Analizar las métricas\n",
    "    plt.plot(h.history['mse'], 'b--', label='loss')\n",
    "    plt.xlabel('epochs')\n",
    "    plt.ylabel('mse')\n",
    "    plt.legend()\n",
    "    plt.show()\n",
    "\n",
    "    # Evaluar el modelo en el conjunto de prueba\n",
    "    test_mape_score, test_mse_score = rnn_model_2.evaluate(X_test, y_test)\n",
    "    return test_mape_score, test_mse_score"
   ],
   "metadata": {
    "id": "cq3XrX525FQl"
   },
   "execution_count": 75,
   "outputs": []
  },
  {
   "cell_type": "code",
   "source": [
    "stacked_test_mape_score, stacked_test_mse_score = stacked(n_steps,X_train, y_train, X_val, y_val, X_test, y_test)\n",
    "print('MAPE en el conjunto de prueba:', stacked_test_mape_score)\n",
    "print('MSE en el conjunto de prueba:', stacked_test_mse_score)"
   ],
   "metadata": {
    "id": "ICDoul-E5Emk"
   },
   "execution_count": 76,
   "outputs": [
    {
     "name": "stdout",
     "output_type": "stream",
     "text": [
      "Model: \"sequential_10\"\n",
      "_________________________________________________________________\n",
      " Layer (type)                Output Shape              Param #   \n",
      "=================================================================\n",
      " lstm_9 (LSTM)               (None, 3, 128)            66560     \n",
      "                                                                 \n",
      " lstm_10 (LSTM)              (None, 64)                49408     \n",
      "                                                                 \n",
      " dense_15 (Dense)            (None, 1)                 65        \n",
      "                                                                 \n",
      "=================================================================\n",
      "Total params: 116,033\n",
      "Trainable params: 116,033\n",
      "Non-trainable params: 0\n",
      "_________________________________________________________________\n"
     ]
    },
    {
     "data": {
      "text/plain": "<Figure size 432x288 with 1 Axes>",
      "image/png": "[encoded data removed]"
     },
     "metadata": {},
     "output_type": "display_data"
    },
    {
     "data": {
      "text/plain": "<Figure size 432x288 with 1 Axes>",
      "image/png": "[encoded data removed]"
     },
     "metadata": {},
     "output_type": "display_data"
    },
    {
     "name": "stdout",
     "output_type": "stream",
     "text": [
      "92/92 [==============================] - 1s 6ms/step - loss: 56.5633 - mse: 0.0790\n",
      "MAPE en el conjunto de prueba: 56.56329345703125\n",
      "MSE en el conjunto de prueba: 0.0789981558918953\n"
     ]
    }
   ]
  },
  {
   "cell_type": "markdown",
   "source": [
    "### Bidirectional"
   ],
   "metadata": {
    "collapsed": false
   }
  },
  {
   "cell_type": "code",
   "source": [
    "def bidirectional(n_steps, X_train, y_train, X_val, y_val, X_test, y_test):\n",
    "    # Definimos el modelo\n",
    "    rnn_model_3 = Sequential()\n",
    "    rnn_model_3.add(Bidirectional(\n",
    "        LSTM(100, activation='relu'),\n",
    "        input_shape=(n_steps, n_features)\n",
    "    ))\n",
    "    rnn_model_3.add(Dense(1))\n",
    "    rnn_model_3.compile(optimizer='RMSprop', loss='mse')\n",
    "\n",
    "    rnn_model_3.summary()\n",
    "\n",
    "    # Compilar el modelo y definir métricas y funciones de pérdida\n",
    "    rnn_model_3.compile(optimizer=keras.optimizers.Adam(learning_rate=0.005), loss='mape', metrics=['mse'])\n",
    "\n",
    "    h = rnn_model_3.fit(X_train, y_train, validation_data=(X_val, y_val), epochs=100, callbacks=[LSTM_earlystop],\n",
    "                        verbose=False)\n",
    "\n",
    "    # Analizar función de pérdida\n",
    "    plt.plot(h.history['loss'], 'b--', label='loss')\n",
    "    plt.xlabel('epochs')\n",
    "    plt.ylabel('loss')\n",
    "    plt.legend()\n",
    "    plt.show()\n",
    "\n",
    "    # Analizar las métricas\n",
    "    plt.plot(h.history['mse'], 'b--', label='loss')\n",
    "    plt.xlabel('epochs')\n",
    "    plt.ylabel('mse')\n",
    "    plt.legend()\n",
    "    plt.show()\n",
    "\n",
    "    # Evaluar el modelo en el conjunto de prueba\n",
    "    test_mape_score, test_mse_score = rnn_model_3.evaluate(X_test, y_test)\n",
    "    return test_mape_score, test_mse_score"
   ],
   "metadata": {
    "id": "P2PwxlNI5D5Y"
   },
   "execution_count": 42,
   "outputs": []
  },
  {
   "cell_type": "code",
   "source": [
    "bidirectional_test_mape_score, bidirectional_test_mse_score = bidirectional(n_steps, X_train, y_train, X_val, y_val, X_test, y_test)\n",
    "print('MAPE en el conjunto de prueba:', bidirectional_test_mape_score)\n",
    "print('MSE en el conjunto de prueba:', bidirectional_test_mse_score)"
   ],
   "metadata": {
    "id": "dwPPJyH15DQy"
   },
   "execution_count": 43,
   "outputs": [
    {
     "name": "stdout",
     "output_type": "stream",
     "text": [
      "Model: \"sequential_5\"\n",
      "_________________________________________________________________\n",
      " Layer (type)                Output Shape              Param #   \n",
      "=================================================================\n",
      " bidirectional (Bidirectiona  (None, 200)              81600     \n",
      " l)                                                              \n",
      "                                                                 \n",
      " dense_10 (Dense)            (None, 1)                 201       \n",
      "                                                                 \n",
      "=================================================================\n",
      "Total params: 81,801\n",
      "Trainable params: 81,801\n",
      "Non-trainable params: 0\n",
      "_________________________________________________________________\n"
     ]
    },
    {
     "data": {
      "text/plain": "<Figure size 432x288 with 1 Axes>",
      "image/png": "[encoded data removed]"
     },
     "metadata": {},
     "output_type": "display_data"
    },
    {
     "data": {
      "text/plain": "<Figure size 432x288 with 1 Axes>",
      "image/png": "[encoded data removed]"
     },
     "metadata": {},
     "output_type": "display_data"
    },
    {
     "name": "stdout",
     "output_type": "stream",
     "text": [
      "92/92 [==============================] - 0s 4ms/step - loss: 55.7356 - mse: 0.0801\n",
      "MAPE en el conjunto de prueba: 55.735572814941406\n",
      "MSE en el conjunto de prueba: 0.08010440319776535\n"
     ]
    }
   ]
  },
  {
   "cell_type": "markdown",
   "source": [
    "### CNN-LSTM"
   ],
   "metadata": {
    "collapsed": false
   }
  },
  {
   "cell_type": "code",
   "source": [
    "def modelo_cnn_lstm(n_steps, X_train, y_train, X_val, y_val, X_test, y_test):\n",
    "    # Definimos el modelo\n",
    "    cnn_rnn_model_2 = Sequential()\n",
    "    cnn_rnn_model_2.add(Bidirectional(\n",
    "        LSTM(64, activation='relu'),\n",
    "        input_shape=(n_steps, n_features)\n",
    "    ))\n",
    "    cnn_rnn_model_2.add(Dense(64, activation='relu'))\n",
    "    cnn_rnn_model_2.add(Dense(1))\n",
    "    cnn_rnn_model_2.compile(optimizer='RMSprop', loss='mse')\n",
    "\n",
    "    cnn_rnn_model_2.summary()\n",
    "\n",
    "    # Compilar el modelo y definir métricas y funciones de pérdida\n",
    "    cnn_rnn_model_2.compile(optimizer=keras.optimizers.Adam(learning_rate=0.005), loss='mape', metrics=['mse'])\n",
    "\n",
    "    h = cnn_rnn_model_2.fit(X_train, y_train, validation_data=(X_val, y_val), epochs=100, callbacks=[LSTM_earlystop],\n",
    "                            verbose=False)\n",
    "\n",
    "    # Analizar función de pérdida\n",
    "    plt.plot(h.history['loss'], 'b--', label='loss')\n",
    "    plt.xlabel('epochs')\n",
    "    plt.ylabel('loss')\n",
    "    plt.legend()\n",
    "    plt.show()\n",
    "\n",
    "    # Analizar las métricas\n",
    "    plt.plot(h.history['mse'], 'b--', label='loss')\n",
    "    plt.xlabel('epochs')\n",
    "    plt.ylabel('mse')\n",
    "    plt.legend()\n",
    "    plt.show()\n",
    "\n",
    "    # Evaluar el modelo en el conjunto de prueba\n",
    "    test_mape_score, test_mse_score = cnn_rnn_model_2.evaluate(X_test, y_test)\n",
    "    return test_mape_score, test_mse_score"
   ],
   "metadata": {
    "id": "W4nWxQcF5Cr3"
   },
   "execution_count": 45,
   "outputs": []
  },
  {
   "cell_type": "code",
   "source": [
    "cnn_lstm_test_mape_score, cnn_lstm_test_mse_score = modelo_cnn_lstm(n_steps, X_train, y_train, X_val, y_val, X_test, y_test)\n",
    "print('MAPE en el conjunto de prueba:', cnn_lstm_test_mape_score)\n",
    "print('MSE en el conjunto de prueba:', cnn_lstm_test_mse_score)"
   ],
   "metadata": {
    "id": "UYQhqaEI5B9_"
   },
   "execution_count": 46,
   "outputs": [
    {
     "name": "stdout",
     "output_type": "stream",
     "text": [
      "Model: \"sequential_6\"\n",
      "_________________________________________________________________\n",
      " Layer (type)                Output Shape              Param #   \n",
      "=================================================================\n",
      " bidirectional_1 (Bidirectio  (None, 128)              33792     \n",
      " nal)                                                            \n",
      "                                                                 \n",
      " dense_11 (Dense)            (None, 64)                8256      \n",
      "                                                                 \n",
      " dense_12 (Dense)            (None, 1)                 65        \n",
      "                                                                 \n",
      "=================================================================\n",
      "Total params: 42,113\n",
      "Trainable params: 42,113\n",
      "Non-trainable params: 0\n",
      "_________________________________________________________________\n"
     ]
    },
    {
     "data": {
      "text/plain": "<Figure size 432x288 with 1 Axes>",
      "image/png": "[encoded data removed]"
     },
     "metadata": {},
     "output_type": "display_data"
    },
    {
     "data": {
      "text/plain": "<Figure size 432x288 with 1 Axes>",
      "image/png": "[encoded data removed]"
     },
     "metadata": {},
     "output_type": "display_data"
    },
    {
     "name": "stdout",
     "output_type": "stream",
     "text": [
      "92/92 [==============================] - 0s 2ms/step - loss: 56.3501 - mse: 0.0829\n",
      "MAPE en el conjunto de prueba: 56.35009002685547\n",
      "MSE en el conjunto de prueba: 0.08293233066797256\n"
     ]
    }
   ]
  },
  {
   "cell_type": "markdown",
   "source": [
    "### ConvLSTM"
   ],
   "metadata": {
    "collapsed": false
   }
  },
  {
   "cell_type": "code",
   "execution_count": 32,
   "outputs": [],
   "source": [
    "from keras.layers import ConvLSTM2D"
   ],
   "metadata": {
    "collapsed": false
   }
  },
  {
   "cell_type": "code",
   "execution_count": 47,
   "outputs": [],
   "source": [
    "# dividir una secuencia univariada en muestras\n",
    "def split_univariate_sequence(sequence, n_steps):\n",
    "    X, y = list(), list()\n",
    "    for i in range(len(sequence)):\n",
    "        # encontrar el final de este patrón\n",
    "        end_ix = i + n_steps\n",
    "\n",
    "        # comprobar si estamos más allá de la secuencia\n",
    "        if end_ix > len(sequence)-1:\n",
    "            break\n",
    "        # reunir partes de entrada y salida del patrón\n",
    "        seq_x, seq_y = sequence[i:end_ix], sequence[end_ix]\n",
    "        X.append(seq_x)\n",
    "        y.append(seq_y)\n",
    "    return np.array(X), np.array(y)"
   ],
   "metadata": {
    "collapsed": false
   }
  },
  {
   "cell_type": "code",
   "execution_count": 48,
   "outputs": [
    {
     "name": "stdout",
     "output_type": "stream",
     "text": [
      "Shape función split (14589, 3, 1)\n",
      "Shape después de la transformación  (14588, 2, 1, 2, 1)\n"
     ]
    }
   ],
   "source": [
    "raw_seq = vals_bc.tolist()\n",
    "# Elegir un número de pasos de tiempo\n",
    "n_steps = 4\n",
    "# Dividir en muestras\n",
    "X2, y2 = split_univariate_sequence(raw_seq, n_steps)\n",
    "print(f'Shape función split {X.shape}')\n",
    "# reshape de [samples, timesteps] a [samples, timesteps, rows, columns, features]\n",
    "n_features = 1\n",
    "n_seq = 2\n",
    "n_steps = 2\n",
    "X2 = X2.reshape((X2.shape[0], n_seq, 1, n_steps, n_features))\n",
    "print(f'Shape después de la transformación  {X2.shape}')"
   ],
   "metadata": {
    "collapsed": false
   }
  },
  {
   "cell_type": "code",
   "execution_count": 37,
   "outputs": [],
   "source": [
    "LSTM_earlystop = EarlyStopping(monitor='loss', min_delta=0, patience=10)"
   ],
   "metadata": {
    "collapsed": false
   }
  },
  {
   "cell_type": "code",
   "execution_count": 27,
   "outputs": [],
   "source": [
    "def modelo_conv_lstm(n_steps, X_train, y_train, X_val, y_val, X_test, y_test):\n",
    "    # Definimos el modelo\n",
    "    cnn_rnn_model_2 = Sequential()\n",
    "    cnn_rnn_model_2.add(\n",
    "    ConvLSTM2D(\n",
    "        filters=64,\n",
    "        # kernel_size en términos de (row, columns)\n",
    "        kernel_size=(1, n_steps),\n",
    "        activation='relu',\n",
    "        input_shape=(n_seq, 1, n_steps, n_features)\n",
    "    )\n",
    ")\n",
    "    cnn_rnn_model_2.add(Flatten())\n",
    "    cnn_rnn_model_2.add(Dense(1))\n",
    "    cnn_rnn_model_2.compile(optimizer='adam', loss='mse')\n",
    "    cnn_rnn_model_2.summary()\n",
    "\n",
    "    # Compilar el modelo y definir métricas y funciones de pérdida\n",
    "    cnn_rnn_model_2.compile(optimizer=keras.optimizers.Adam(learning_rate=0.005), loss='mape', metrics=['mse'])\n",
    "\n",
    "    h = cnn_rnn_model_2.fit(X_train, y_train, validation_data=(X_val, y_val), epochs=100, callbacks=[LSTM_earlystop],\n",
    "                            verbose=False)\n",
    "\n",
    "    # Analizar función de pérdida\n",
    "    plt.plot(h.history['loss'], 'b--', label='loss')\n",
    "    plt.xlabel('epochs')\n",
    "    plt.ylabel('loss')\n",
    "    plt.legend()\n",
    "    plt.show()\n",
    "\n",
    "    # Analizar las métricas\n",
    "    plt.plot(h.history['mse'], 'b--', label='loss')\n",
    "    plt.xlabel('epochs')\n",
    "    plt.ylabel('mse')\n",
    "    plt.legend()\n",
    "    plt.show()\n",
    "\n",
    "    # Evaluar el modelo en el conjunto de prueba\n",
    "    test_mape_score, test_mse_score = cnn_rnn_model_2.evaluate(X_test, y_test)\n",
    "    return test_mape_score, test_mse_score"
   ],
   "metadata": {
    "collapsed": false
   }
  },
  {
   "cell_type": "code",
   "execution_count": 49,
   "outputs": [
    {
     "name": "stdout",
     "output_type": "stream",
     "text": [
      "X_train shape: (10503, 2, 1, 2, 1) \n",
      "y_train shape: (10503, 1) \n",
      "X_val shape:  (1167, 2, 1, 2, 1) \n",
      "y_val shape: (1167, 1) \n",
      "X_test shape: (2918, 2, 1, 2, 1) \n",
      "y_test shape: (2918, 1)\n"
     ]
    }
   ],
   "source": [
    "# Train val test split\n",
    "X_train, y_train, X_val, y_val, X_test, y_test = split_dataset(X2, y2)\n",
    "print(\"X_train shape:\", X_train.shape, \"\\ny_train shape:\",y_train.shape,\"\\nX_val shape: \", X_val.shape, \"\\ny_val shape:\", y_val.shape, \"\\nX_test shape:\",X_test.shape, \"\\ny_test shape:\",y_test.shape)"
   ],
   "metadata": {
    "collapsed": false
   }
  },
  {
   "cell_type": "code",
   "source": [
    "conv_lstm_test_mape_score, conv_lstm_test_mse_score = modelo_conv_lstm(n_steps, X_train, y_train, X_val, y_val, X_test, y_test)\n",
    "print('MAPE en el conjunto de prueba:', conv_lstm_test_mape_score)\n",
    "print('MSE en el conjunto de prueba:', conv_lstm_test_mse_score)"
   ],
   "metadata": {
    "id": "eg1o6isz5Aqy"
   },
   "execution_count": 38,
   "outputs": [
    {
     "name": "stdout",
     "output_type": "stream",
     "text": [
      "Model: \"sequential_3\"\n",
      "_________________________________________________________________\n",
      " Layer (type)                Output Shape              Param #   \n",
      "=================================================================\n",
      " conv_lstm2d_2 (ConvLSTM2D)  (None, 1, 1, 64)          33536     \n",
      "                                                                 \n",
      " flatten_2 (Flatten)         (None, 64)                0         \n",
      "                                                                 \n",
      " dense_2 (Dense)             (None, 1)                 65        \n",
      "                                                                 \n",
      "=================================================================\n",
      "Total params: 33,601\n",
      "Trainable params: 33,601\n",
      "Non-trainable params: 0\n",
      "_________________________________________________________________\n"
     ]
    },
    {
     "data": {
      "text/plain": "<Figure size 432x288 with 1 Axes>",
      "image/png": "[encoded data removed]"
     },
     "metadata": {},
     "output_type": "display_data"
    },
    {
     "data": {
      "text/plain": "<Figure size 432x288 with 1 Axes>",
      "image/png": "[encoded data removed]"
     },
     "metadata": {},
     "output_type": "display_data"
    },
    {
     "name": "stdout",
     "output_type": "stream",
     "text": [
      "92/92 [==============================] - 0s 4ms/step - loss: 53.0683 - mse: 0.0865\n",
      "MAPE en el conjunto de prueba: 53.06827163696289\n",
      "MSE en el conjunto de prueba: 0.08649331331253052\n"
     ]
    }
   ]
  },
  {
   "cell_type": "markdown",
   "source": [
    "### Comparación"
   ],
   "metadata": {
    "collapsed": false
   }
  },
  {
   "cell_type": "code",
   "source": [
    "cm = pd.DataFrame([0.0829, 0.09535, 0.091209, 0.082645, 0.08010, 0.082932, 0.0864933], columns=[\"MSE metric\"])\n",
    "cm.index = [\"MLP\", \"CNN\", \"LSTM\", \"Stacked\", \"Bidirectional\", \"CNN-LSTM\", \"ConvLSTM\"]\n",
    "cm = cm.sort_values(\"MSE metric\", ascending=True)\n",
    "cm"
   ],
   "metadata": {
    "id": "vDtDMkOk4__Q"
   },
   "execution_count": 42,
   "outputs": [
    {
     "data": {
      "text/plain": "               MSE metric\nBidirectional    0.080100\nStacked          0.082645\nMLP              0.082900\nCNN-LSTM         0.082932\nConvLSTM         0.086493\nLSTM             0.091209\nCNN              0.095350",
      "text/html": "<div>\n<style scoped>\n    .dataframe tbody tr th:only-of-type {\n        vertical-align: middle;\n    }\n\n    .dataframe tbody tr th {\n        vertical-align: top;\n    }\n\n    .dataframe thead th {\n        text-align: right;\n    }\n</style>\n<table border=\"1\" class=\"dataframe\">\n  <thead>\n    <tr style=\"text-align: right;\">\n      <th></th>\n      <th>MSE metric</th>\n    </tr>\n  </thead>\n  <tbody>\n    <tr>\n      <th>Bidirectional</th>\n      <td>0.080100</td>\n    </tr>\n    <tr>\n      <th>Stacked</th>\n      <td>0.082645</td>\n    </tr>\n    <tr>\n      <th>MLP</th>\n      <td>0.082900</td>\n    </tr>\n    <tr>\n      <th>CNN-LSTM</th>\n      <td>0.082932</td>\n    </tr>\n    <tr>\n      <th>ConvLSTM</th>\n      <td>0.086493</td>\n    </tr>\n    <tr>\n      <th>LSTM</th>\n      <td>0.091209</td>\n    </tr>\n    <tr>\n      <th>CNN</th>\n      <td>0.095350</td>\n    </tr>\n  </tbody>\n</table>\n</div>"
     },
     "execution_count": 42,
     "metadata": {},
     "output_type": "execute_result"
    }
   ]
  },
  {
   "cell_type": "code",
   "source": [
    "cm.plot(kind=\"bar\")"
   ],
   "metadata": {
    "id": "TqHNYWlR4_TD"
   },
   "execution_count": 48,
   "outputs": [
    {
     "data": {
      "text/plain": "<AxesSubplot:>"
     },
     "execution_count": 48,
     "metadata": {},
     "output_type": "execute_result"
    },
    {
     "data": {
      "text/plain": "<Figure size 432x288 with 1 Axes>",
      "image/png": "[encoded data removed]"
     },
     "metadata": {},
     "output_type": "display_data"
    }
   ]
  },
  {
   "cell_type": "markdown",
   "source": [
    "### Optuna Bidirectional"
   ],
   "metadata": {
    "collapsed": false
   }
  },
  {
   "cell_type": "code",
   "execution_count": 27,
   "outputs": [],
   "source": [
    "import optuna\n",
    "from tensorflow import keras\n",
    "from tensorflow.keras.models import Sequential\n",
    "from tensorflow.keras.layers import Bidirectional, LSTM, Dense"
   ],
   "metadata": {
    "collapsed": false
   }
  },
  {
   "cell_type": "code",
   "execution_count": 28,
   "outputs": [
    {
     "data": {
      "text/plain": "((10503, 3, 1), (10503, 1), (1168, 3, 1), (1168, 1), (2918, 3, 1), (2918, 1))"
     },
     "execution_count": 28,
     "metadata": {},
     "output_type": "execute_result"
    }
   ],
   "source": [
    "X_train.shape, y_train.shape, X_val.shape, y_val.shape, X_test.shape, y_test.shape"
   ],
   "metadata": {
    "collapsed": false
   }
  },
  {
   "cell_type": "code",
   "execution_count": 35,
   "outputs": [],
   "source": [
    "def objective(trial):\n",
    "    # Definir los hiperparámetros a ajustar\n",
    "    learning_rate = trial.suggest_loguniform('learning_rate', 1e-5, 1e-1)\n",
    "    lstm_units = trial.suggest_categorical('lstm_units', [32, 64, 128])\n",
    "    batch_size = trial.suggest_categorical('batch_size', [16, 32, 64, 128])\n",
    "    num_epochs = trial.suggest_int('num_epochs', 20, 150)\n",
    "\n",
    "\n",
    "   # Definir el modelo\n",
    "    rnn_model = Sequential()\n",
    "    rnn_model.add(Bidirectional(\n",
    "        LSTM(lstm_units, activation='relu'),\n",
    "        input_shape=(n_steps, n_features)\n",
    "    ))\n",
    "    rnn_model.add(Dense(1))\n",
    "    rnn_model.compile(optimizer=keras.optimizers.Adam(learning_rate=learning_rate), loss='mape')\n",
    "\n",
    "    # Compilar el modelo con los hiperparámetros ajustados\n",
    "    rnn_model.compile(optimizer=tf.keras.optimizers.Adam(learning_rate=learning_rate),\n",
    "                  loss='mse')\n",
    "\n",
    "    # Entrenar el modelo y obtener el error de validación\n",
    "    history = rnn_model.fit(X_train, y_train, validation_data=(X_val, y_val), epochs=num_epochs, batch_size=batch_size, verbose=0)\n",
    "    val_loss = history.history['val_loss'][-1]\n",
    "\n",
    "    return val_loss"
   ],
   "metadata": {
    "collapsed": false
   }
  },
  {
   "cell_type": "code",
   "execution_count": 36,
   "outputs": [
    {
     "name": "stderr",
     "output_type": "stream",
     "text": [
      "\u001B[32m[I 2023-05-11 19:33:27,309]\u001B[0m A new study created in memory with name: no-name-6bfe7469-0ded-4521-ace8-f2de30388680\u001B[0m\n",
      "/var/folders/vy/11j1fpvs73d2q6m6tfbtxl4c0000gn/T/ipykernel_18966/845220991.py:3: FutureWarning: suggest_loguniform has been deprecated in v3.0.0. This feature will be removed in v6.0.0. See https://github.com/optuna/optuna/releases/tag/v3.0.0. Use :func:`~optuna.trial.Trial.suggest_float` instead.\n",
      "  learning_rate = trial.suggest_loguniform('learning_rate', 1e-5, 1e-1)\n",
      "\u001B[32m[I 2023-05-11 19:35:58,915]\u001B[0m Trial 0 finished with value: 0.06806692481040955 and parameters: {'learning_rate': 0.00013365524685134714, 'lstm_units': 32, 'batch_size': 32, 'num_epochs': 118}. Best is trial 0 with value: 0.06806692481040955.\u001B[0m\n",
      "\u001B[32m[I 2023-05-11 19:37:06,768]\u001B[0m Trial 1 finished with value: 0.06663716584444046 and parameters: {'learning_rate': 0.0008023707605045042, 'lstm_units': 64, 'batch_size': 128, 'num_epochs': 117}. Best is trial 1 with value: 0.06663716584444046.\u001B[0m\n",
      "\u001B[32m[I 2023-05-11 19:37:56,891]\u001B[0m Trial 2 finished with value: 0.07020970433950424 and parameters: {'learning_rate': 9.31670403581854e-05, 'lstm_units': 32, 'batch_size': 64, 'num_epochs': 65}. Best is trial 1 with value: 0.06663716584444046.\u001B[0m\n",
      "\u001B[32m[I 2023-05-11 19:40:29,118]\u001B[0m Trial 3 finished with value: 0.06568541377782822 and parameters: {'learning_rate': 0.014335660825417932, 'lstm_units': 32, 'batch_size': 32, 'num_epochs': 101}. Best is trial 3 with value: 0.06568541377782822.\u001B[0m\n",
      "\u001B[32m[I 2023-05-11 19:40:54,637]\u001B[0m Trial 4 finished with value: 0.06628908962011337 and parameters: {'learning_rate': 0.007389950443580596, 'lstm_units': 32, 'batch_size': 64, 'num_epochs': 34}. Best is trial 3 with value: 0.06568541377782822.\u001B[0m\n",
      "\u001B[32m[I 2023-05-11 19:44:21,439]\u001B[0m Trial 5 finished with value: 0.06537339091300964 and parameters: {'learning_rate': 0.022525727073559966, 'lstm_units': 64, 'batch_size': 32, 'num_epochs': 114}. Best is trial 5 with value: 0.06537339091300964.\u001B[0m\n",
      "\u001B[32m[I 2023-05-11 19:50:30,603]\u001B[0m Trial 6 finished with value: 0.06599302589893341 and parameters: {'learning_rate': 0.005687563858502317, 'lstm_units': 128, 'batch_size': 32, 'num_epochs': 134}. Best is trial 5 with value: 0.06537339091300964.\u001B[0m\n",
      "\u001B[32m[I 2023-05-11 19:53:44,199]\u001B[0m Trial 7 finished with value: 0.06925176829099655 and parameters: {'learning_rate': 4.86357298518177e-05, 'lstm_units': 128, 'batch_size': 32, 'num_epochs': 80}. Best is trial 5 with value: 0.06537339091300964.\u001B[0m\n",
      "\u001B[32m[I 2023-05-11 19:55:41,319]\u001B[0m Trial 8 finished with value: 0.06759042292833328 and parameters: {'learning_rate': 0.011956730538267365, 'lstm_units': 128, 'batch_size': 64, 'num_epochs': 85}. Best is trial 5 with value: 0.06537339091300964.\u001B[0m\n",
      "\u001B[32m[I 2023-05-11 19:56:37,175]\u001B[0m Trial 9 finished with value: 0.0683894231915474 and parameters: {'learning_rate': 0.000364933823305936, 'lstm_units': 128, 'batch_size': 64, 'num_epochs': 41}. Best is trial 5 with value: 0.06537339091300964.\u001B[0m\n"
     ]
    },
    {
     "name": "stdout",
     "output_type": "stream",
     "text": [
      "Best trial: {'learning_rate': 0.022525727073559966, 'lstm_units': 64, 'batch_size': 32, 'num_epochs': 114}\n",
      "Best validation loss: 0.06537339091300964\n"
     ]
    }
   ],
   "source": [
    "# Definir los parámetros de la red neuronal\n",
    "n_steps = 3\n",
    "n_features = 1\n",
    "\n",
    "# Definir el objeto de estudio de Optuna y ejecutar la búsqueda de hiperparámetros\n",
    "study = optuna.create_study(direction='minimize')\n",
    "study.optimize(objective, n_trials=10)\n",
    "\n",
    "# Imprimir los resultados\n",
    "print('Best trial:', study.best_trial.params)\n",
    "print('Best validation loss:', study.best_trial.value)"
   ],
   "metadata": {
    "collapsed": false
   }
  },
  {
   "cell_type": "code",
   "execution_count": 39,
   "outputs": [
    {
     "name": "stdout",
     "output_type": "stream",
     "text": [
      "best params:  {'learning_rate': 0.022525727073559966, 'lstm_units': 64, 'batch_size': 32, 'num_epochs': 114} \n",
      " best score: 0.06537339091300964\n"
     ]
    }
   ],
   "source": [
    "# Obtener los mejores hiperparámetros y el F1-Score correspondiente\n",
    "best_params = study.best_params\n",
    "best_score = study.best_value\n",
    "print(\"best params: \", best_params, \"\\n best score:\", best_score)"
   ],
   "metadata": {
    "collapsed": false
   }
  },
  {
   "cell_type": "code",
   "execution_count": 43,
   "outputs": [
    {
     "name": "stdout",
     "output_type": "stream",
     "text": [
      "Model: \"sequential_16\"\n",
      "_________________________________________________________________\n",
      " Layer (type)                Output Shape              Param #   \n",
      "=================================================================\n",
      " bidirectional_14 (Bidirecti  (None, 128)              33792     \n",
      " onal)                                                           \n",
      "                                                                 \n",
      " dense_16 (Dense)            (None, 1)                 129       \n",
      "                                                                 \n",
      "=================================================================\n",
      "Total params: 33,921\n",
      "Trainable params: 33,921\n",
      "Non-trainable params: 0\n",
      "_________________________________________________________________\n"
     ]
    },
    {
     "data": {
      "text/plain": "<Figure size 432x288 with 1 Axes>",
      "image/png": "[encoded data removed]"
     },
     "metadata": {},
     "output_type": "display_data"
    },
    {
     "data": {
      "text/plain": "<Figure size 432x288 with 1 Axes>",
      "image/png": "[encoded data removed]"
     },
     "metadata": {},
     "output_type": "display_data"
    },
    {
     "name": "stdout",
     "output_type": "stream",
     "text": [
      "92/92 [==============================] - 0s 4ms/step - loss: 56.8080 - mse: 0.0889\n"
     ]
    }
   ],
   "source": [
    "# Definimos el modelo\n",
    "rnn_model_3 = Sequential()\n",
    "rnn_model_3.add(Bidirectional(\n",
    "    LSTM(64, activation='relu'),\n",
    "    input_shape=(n_steps, n_features)\n",
    "))\n",
    "rnn_model_3.add(Dense(1))\n",
    "rnn_model_3.compile(optimizer='RMSprop', loss='mse')\n",
    "\n",
    "rnn_model_3.summary()\n",
    "\n",
    "# Compilar el modelo y definir métricas y funciones de pérdida\n",
    "rnn_model_3.compile(optimizer=keras.optimizers.Adam(learning_rate=0.022525727073559966), loss='mape', metrics=['mse'])\n",
    "\n",
    "h = rnn_model_3.fit(X_train, y_train, validation_data=(X_val, y_val), epochs=114, batch_size=32, callbacks=[LSTM_earlystop],\n",
    "                    verbose=False)\n",
    "\n",
    "# Analizar función de pérdida\n",
    "plt.plot(h.history['loss'], 'b--', label='loss')\n",
    "plt.xlabel('epochs')\n",
    "plt.ylabel('loss')\n",
    "plt.legend()\n",
    "plt.show()\n",
    "\n",
    "# Analizar las métricas\n",
    "plt.plot(h.history['mse'], 'b--', label='loss')\n",
    "plt.xlabel('epochs')\n",
    "plt.ylabel('mse')\n",
    "plt.legend()\n",
    "plt.show()\n",
    "\n",
    "# Evaluar el modelo en el conjunto de prueba\n",
    "test_mape_score, test_mse_score = rnn_model_3.evaluate(X_test, y_test)"
   ],
   "metadata": {
    "collapsed": false
   }
  },
  {
   "cell_type": "markdown",
   "source": [
    "Obtuvimos un mse de 0.0889 con los hiperparámetros óptimos."
   ],
   "metadata": {
    "collapsed": false
   }
  },
  {
   "cell_type": "markdown",
   "source": [
    "## Clasificación"
   ],
   "metadata": {
    "collapsed": false
   }
  },
  {
   "cell_type": "code",
   "execution_count": 21,
   "outputs": [],
   "source": [
    "import seaborn as sns\n",
    "from sklearn.model_selection import train_test_split\n",
    "from sklearn.metrics import accuracy_score\n",
    "from sklearn.neighbors import KNeighborsClassifier\n",
    "from sklearn.tree import DecisionTreeClassifier\n",
    "from sklearn.svm import SVC\n",
    "from sklearn.naive_bayes import GaussianNB\n",
    "from sklearn.ensemble import RandomForestClassifier\n",
    "from sklearn.ensemble import ExtraTreesClassifier"
   ],
   "metadata": {
    "collapsed": false
   }
  },
  {
   "cell_type": "code",
   "execution_count": 78,
   "outputs": [
    {
     "data": {
      "text/plain": "                     Junction  Vehicles\nDateTime                               \n2015-11-01 00:00:00         1        15\n2015-11-01 01:00:00         1        13\n2015-11-01 02:00:00         1        10\n2015-11-01 03:00:00         1         7\n2015-11-01 04:00:00         1         9",
      "text/html": "<div>\n<style scoped>\n    .dataframe tbody tr th:only-of-type {\n        vertical-align: middle;\n    }\n\n    .dataframe tbody tr th {\n        vertical-align: top;\n    }\n\n    .dataframe thead th {\n        text-align: right;\n    }\n</style>\n<table border=\"1\" class=\"dataframe\">\n  <thead>\n    <tr style=\"text-align: right;\">\n      <th></th>\n      <th>Junction</th>\n      <th>Vehicles</th>\n    </tr>\n    <tr>\n      <th>DateTime</th>\n      <th></th>\n      <th></th>\n    </tr>\n  </thead>\n  <tbody>\n    <tr>\n      <th>2015-11-01 00:00:00</th>\n      <td>1</td>\n      <td>15</td>\n    </tr>\n    <tr>\n      <th>2015-11-01 01:00:00</th>\n      <td>1</td>\n      <td>13</td>\n    </tr>\n    <tr>\n      <th>2015-11-01 02:00:00</th>\n      <td>1</td>\n      <td>10</td>\n    </tr>\n    <tr>\n      <th>2015-11-01 03:00:00</th>\n      <td>1</td>\n      <td>7</td>\n    </tr>\n    <tr>\n      <th>2015-11-01 04:00:00</th>\n      <td>1</td>\n      <td>9</td>\n    </tr>\n  </tbody>\n</table>\n</div>"
     },
     "execution_count": 78,
     "metadata": {},
     "output_type": "execute_result"
    }
   ],
   "source": [
    "df = data.set_index(\"DateTime\")\n",
    "df.drop(\"ID\", axis=1, inplace=True)\n",
    "df.head()"
   ],
   "metadata": {
    "collapsed": false
   }
  },
  {
   "cell_type": "code",
   "execution_count": 79,
   "outputs": [
    {
     "data": {
      "text/plain": "array([1, 2, 3, 4])"
     },
     "execution_count": 79,
     "metadata": {},
     "output_type": "execute_result"
    }
   ],
   "source": [
    "df.Junction.unique()"
   ],
   "metadata": {
    "collapsed": false
   }
  },
  {
   "cell_type": "code",
   "execution_count": 80,
   "outputs": [],
   "source": [
    "def split_dataset(X, y):\n",
    "    \"\"\"\n",
    "    Función que se encarga de dividir la data ingresada en datos de entrenamiento y prueba.\n",
    "    :param data: Data con la información de la serie de tiempo a analizar.\n",
    "    \"\"\"\n",
    "    X_train, X_test, y_train, y_test = train_test_split(X, y, test_size=0.2, random_state=42, shuffle=True)\n",
    "    return X_train, y_train, X_test, y_test"
   ],
   "metadata": {
    "collapsed": false
   }
  },
  {
   "cell_type": "code",
   "execution_count": 81,
   "outputs": [],
   "source": [
    "X = df[\"Vehicles\"]\n",
    "y = df[\"Junction\"]"
   ],
   "metadata": {
    "collapsed": false
   }
  },
  {
   "cell_type": "code",
   "execution_count": 82,
   "outputs": [
    {
     "data": {
      "text/plain": "0"
     },
     "execution_count": 82,
     "metadata": {},
     "output_type": "execute_result"
    }
   ],
   "source": [
    "# Verificamos que no hayan valores nulos\n",
    "X.isna().sum()"
   ],
   "metadata": {
    "collapsed": false
   }
  },
  {
   "cell_type": "code",
   "execution_count": 83,
   "outputs": [
    {
     "data": {
      "text/plain": "((38496,), (38496,), (9624,), (9624,))"
     },
     "execution_count": 83,
     "metadata": {},
     "output_type": "execute_result"
    }
   ],
   "source": [
    "X_train, y_train, X_test, y_test = split_dataset(X, y)\n",
    "X_train.shape, y_train.shape, X_test.shape, y_test.shape"
   ],
   "metadata": {
    "collapsed": false
   }
  },
  {
   "cell_type": "code",
   "source": [
    "X_train.head()"
   ],
   "metadata": {
    "id": "Kz8F_BBT45ia"
   },
   "execution_count": 84,
   "outputs": [
    {
     "data": {
      "text/plain": "DateTime\n2015-12-15 16:00:00     5\n2015-12-05 18:00:00     1\n2016-04-13 14:00:00    18\n2016-11-28 11:00:00    21\n2016-01-26 02:00:00    12\nName: Vehicles, dtype: int64"
     },
     "execution_count": 84,
     "metadata": {},
     "output_type": "execute_result"
    }
   ]
  },
  {
   "cell_type": "code",
   "execution_count": 85,
   "outputs": [],
   "source": [
    "# resumir el balance de clases en una columna variable de salida usando DataFrame.value_counts()\n",
    "def class_breakdown(data):\n",
    "    df = pd.DataFrame(data)\n",
    "    vc = df.value_counts() #/ len(data) * 100\n",
    "    vc = vc.to_frame()\n",
    "    vc.index.name = 'Class'\n",
    "    vc.columns = ['n']\n",
    "    vc['count'] = vc['n'].round(2)\n",
    "    print('balance de clases', vc, sep='\\n')\n",
    "    # Graficar el balance de clases\n",
    "    vc['count'].plot(kind='bar')\n",
    "    plt.show()"
   ],
   "metadata": {
    "collapsed": false
   }
  },
  {
   "cell_type": "code",
   "execution_count": 86,
   "outputs": [
    {
     "name": "stdout",
     "output_type": "stream",
     "text": [
      "train Data\n",
      "balance de clases\n",
      "              n  count\n",
      "Junction              \n",
      "3         11710  11710\n",
      "1         11664  11664\n",
      "2         11655  11655\n",
      "4          3467   3467\n"
     ]
    },
    {
     "data": {
      "text/plain": "<Figure size 432x288 with 1 Axes>",
      "image/png": "[encoded data removed]"
     },
     "metadata": {},
     "output_type": "display_data"
    },
    {
     "name": "stdout",
     "output_type": "stream",
     "text": [
      "test Data\n",
      "balance de clases\n",
      "             n  count\n",
      "Junction             \n",
      "2         2937   2937\n",
      "1         2928   2928\n",
      "3         2882   2882\n",
      "4          877    877\n"
     ]
    },
    {
     "data": {
      "text/plain": "<Figure size 432x288 with 1 Axes>",
      "image/png": "[encoded data removed]"
     },
     "metadata": {},
     "output_type": "display_data"
    }
   ],
   "source": [
    "print('train Data')\n",
    "class_breakdown(y_train)\n",
    "\n",
    "print('test Data')\n",
    "class_breakdown(y_test)"
   ],
   "metadata": {
    "collapsed": false
   }
  },
  {
   "cell_type": "markdown",
   "source": [
    "### Balanceo de clases"
   ],
   "metadata": {
    "collapsed": false
   }
  },
  {
   "cell_type": "code",
   "execution_count": 87,
   "outputs": [],
   "source": [
    "from imblearn.under_sampling import RandomUnderSampler"
   ],
   "metadata": {
    "collapsed": false
   }
  },
  {
   "cell_type": "code",
   "execution_count": 88,
   "outputs": [
    {
     "data": {
      "text/plain": "((38496,), (38496,))"
     },
     "execution_count": 88,
     "metadata": {},
     "output_type": "execute_result"
    }
   ],
   "source": [
    "X_train.shape, y_train.shape"
   ],
   "metadata": {
    "collapsed": false
   }
  },
  {
   "cell_type": "code",
   "execution_count": 89,
   "outputs": [
    {
     "data": {
      "text/plain": "array([3, 2, 1, 4])"
     },
     "execution_count": 89,
     "metadata": {},
     "output_type": "execute_result"
    }
   ],
   "source": [
    "y_train.unique()"
   ],
   "metadata": {
    "collapsed": false
   }
  },
  {
   "cell_type": "code",
   "execution_count": 90,
   "outputs": [
    {
     "data": {
      "text/plain": "Text(0.5, 1.0, 'Cuenta de la variable de salida')"
     },
     "execution_count": 90,
     "metadata": {},
     "output_type": "execute_result"
    },
    {
     "data": {
      "text/plain": "<Figure size 432x288 with 1 Axes>",
      "image/png": "[encoded data removed]"
     },
     "metadata": {},
     "output_type": "display_data"
    }
   ],
   "source": [
    "#Balancear datos de salida usando algoritmo de SMOTE\n",
    "rus = RandomUnderSampler(random_state=42)\n",
    "X_train_resampled, y_train_resampled = rus.fit_resample(np.array(X).reshape(-1, 1), np.array(y))\n",
    "\n",
    "sns.countplot(x=y_train_resampled).set_title(\"Cuenta de la variable de salida\")"
   ],
   "metadata": {
    "collapsed": false
   }
  },
  {
   "cell_type": "code",
   "execution_count": 91,
   "outputs": [
    {
     "data": {
      "text/plain": "(array([1, 2, 3, 4]), array([4344, 4344, 4344, 4344]))"
     },
     "execution_count": 91,
     "metadata": {},
     "output_type": "execute_result"
    }
   ],
   "source": [
    "# Obtener los valores únicos y sus frecuencias\n",
    "valores_unicos, frecuencias = np.unique(y_train_resampled, return_counts=True)\n",
    "valores_unicos, frecuencias"
   ],
   "metadata": {
    "collapsed": false
   }
  },
  {
   "cell_type": "code",
   "execution_count": 92,
   "outputs": [],
   "source": [
    "# Normalizamos los datos con MinMaxScaler\n",
    "from sklearn.preprocessing import StandardScaler\n",
    "scaler = StandardScaler()\n",
    "scaler.fit(X_train_resampled)\n",
    "X_train_normalized = scaler.transform(X_train_resampled)\n",
    "X_test_normalized = scaler.transform(np.array(X_test).reshape(-1,1))"
   ],
   "metadata": {
    "collapsed": false
   }
  },
  {
   "cell_type": "code",
   "execution_count": 70,
   "outputs": [
    {
     "data": {
      "text/plain": "((17376, 1), (9624, 1))"
     },
     "execution_count": 70,
     "metadata": {},
     "output_type": "execute_result"
    }
   ],
   "source": [
    "X_train_normalized.shape, X_test_normalized.shape"
   ],
   "metadata": {
    "collapsed": false
   }
  },
  {
   "cell_type": "code",
   "execution_count": 71,
   "outputs": [
    {
     "data": {
      "text/plain": "array([[ 1.22642849],\n       [ 2.81022348],\n       [ 0.20462527],\n       [ 1.37969897],\n       [ 1.78842026],\n       [ 0.51116623],\n       [ 0.51116623],\n       [ 0.86879736],\n       [ 0.71552688],\n       [-0.45954682]])"
     },
     "execution_count": 71,
     "metadata": {},
     "output_type": "execute_result"
    }
   ],
   "source": [
    "X_train_normalized[:10]"
   ],
   "metadata": {
    "collapsed": false
   }
  },
  {
   "cell_type": "markdown",
   "source": [
    "### Machine Learning"
   ],
   "metadata": {
    "collapsed": false
   }
  },
  {
   "cell_type": "markdown",
   "source": [
    "Haremos modelos de KNeighborsClassifier, Bayes, Support Vector Classifier, Decision Tree Classifier, Random Forest Classifier, Extra Trees Classifier."
   ],
   "metadata": {
    "collapsed": false
   }
  },
  {
   "cell_type": "code",
   "execution_count": 37,
   "outputs": [],
   "source": [
    "# crear un dict de modelos estándar para evaluar {nombre:objeto}\n",
    "def define_models(models=dict()):\n",
    "    # nonlinear models\n",
    "    models['knn'] = KNeighborsClassifier(n_neighbors=7)\n",
    "    models[\"bayes\"] = GaussianNB()\n",
    "    models['svm'] = SVC()\n",
    "    models['dt'] = DecisionTreeClassifier()\n",
    "\n",
    "    # ensemble models\n",
    "    models['rf'] = RandomForestClassifier(n_estimators=100)\n",
    "    models['et'] = ExtraTreesClassifier(n_estimators=100)\n",
    "    print('Defined %d models' % len(models))\n",
    "    return models"
   ],
   "metadata": {
    "collapsed": false
   }
  },
  {
   "cell_type": "code",
   "execution_count": 38,
   "outputs": [],
   "source": [
    "# evaluar un solo modelo\n",
    "def evaluate_model(X_train, y_train, X_test, y_test, model):\n",
    "    # Ajustar el modelo\n",
    "    model.fit(X_train, y_train)\n",
    "    # Realizar predicciones\n",
    "    yhat = model.predict(X_test)\n",
    "    # Evaluar predicciones\n",
    "    accuracy = accuracy_score(y_test, yhat)\n",
    "    return accuracy * 100.0"
   ],
   "metadata": {
    "collapsed": false
   }
  },
  {
   "cell_type": "code",
   "execution_count": 39,
   "outputs": [],
   "source": [
    "# Evaluar diccionario de modelos {name:object}, regresa {name:score}\n",
    "def evaluate_models(X_train, y_train, X_test, y_test, models):\n",
    "    results = dict()\n",
    "    for name, model in models.items():\n",
    "        # Evaluar el modelo\n",
    "        results[name] = evaluate_model(X_train, y_train, X_test, y_test, model)\n",
    "        # Mostrar el proceso\n",
    "        print('>%s: %.3f' % (name, results[name]))\n",
    "    return results"
   ],
   "metadata": {
    "collapsed": false
   }
  },
  {
   "cell_type": "code",
   "execution_count": 40,
   "outputs": [],
   "source": [
    "# Imprimir y mostrar los resultados\n",
    "def summarize_results(results, maximize=True):\n",
    "    # Crear lista de (name, mean(scores)) tuplas\n",
    "    mean_scores = [(k,v) for k,v in results.items()]\n",
    "    # Ordenar tuplas por score\n",
    "    mean_scores = sorted(mean_scores, key=lambda x: x[1])\n",
    "    # reverse para orden descendiente (ej. para accuracy)\n",
    "    if maximize:\n",
    "        mean_scores = list(reversed(mean_scores))\n",
    "    print()\n",
    "    for name, score in mean_scores:\n",
    "        print('Name=%s, Score=%.3f' % (name, score))"
   ],
   "metadata": {
    "collapsed": false
   }
  },
  {
   "cell_type": "code",
   "execution_count": 41,
   "outputs": [
    {
     "data": {
      "text/plain": "((17376, 1), (17376,), (9624, 1), (9624,))"
     },
     "execution_count": 41,
     "metadata": {},
     "output_type": "execute_result"
    }
   ],
   "source": [
    "X_train_normalized.shape, y_train_resampled.shape, X_test_normalized.shape, y_test.shape"
   ],
   "metadata": {
    "collapsed": false
   }
  },
  {
   "cell_type": "code",
   "execution_count": 42,
   "outputs": [
    {
     "name": "stdout",
     "output_type": "stream",
     "text": [
      "Defined 6 models\n",
      ">knn: 34.840\n",
      ">bayes: 46.166\n",
      ">svm: 48.919\n",
      ">dt: 50.634\n",
      ">rf: 49.210\n",
      ">et: 50.634\n",
      "\n",
      "Name=et, Score=50.634\n",
      "Name=dt, Score=50.634\n",
      "Name=rf, Score=49.210\n",
      "Name=svm, Score=48.919\n",
      "Name=bayes, Score=46.166\n",
      "Name=knn, Score=34.840\n"
     ]
    }
   ],
   "source": [
    "# Generar el diccionario de modelos\n",
    "models = define_models()\n",
    "\n",
    "# Evaluar los modelos\n",
    "results = evaluate_models(X_train_normalized, y_train_resampled , X_test_normalized, y_test, models)\n",
    "\n",
    "# Resumir los resultados de los modelos\n",
    "summarize_results(results)"
   ],
   "metadata": {
    "collapsed": false
   }
  },
  {
   "cell_type": "markdown",
   "source": [
    "### Optuna"
   ],
   "metadata": {
    "collapsed": false
   }
  },
  {
   "cell_type": "code",
   "execution_count": null,
   "outputs": [],
   "source": [
    "from keras.utils import to_categorical"
   ],
   "metadata": {
    "collapsed": false
   }
  },
  {
   "cell_type": "code",
   "execution_count": 96,
   "outputs": [
    {
     "data": {
      "text/plain": "array([[1., 0., 0., 0.],\n       [1., 0., 0., 0.],\n       [1., 0., 0., 0.],\n       ...,\n       [0., 0., 0., 1.],\n       [0., 0., 0., 1.],\n       [0., 0., 0., 1.]], dtype=float32)"
     },
     "execution_count": 96,
     "metadata": {},
     "output_type": "execute_result"
    }
   ],
   "source": [
    "# one hot encode y\n",
    "y_train_resampled = to_categorical(y_train_resampled)\n",
    "# Eliminar la primera columna\n",
    "y_train_resampled = y_train_resampled[:, 1:]\n",
    "y_train_resampled"
   ],
   "metadata": {
    "collapsed": false
   }
  },
  {
   "cell_type": "code",
   "execution_count": 98,
   "outputs": [
    {
     "data": {
      "text/plain": "array([[0., 1., 0., 0.],\n       [0., 0., 1., 0.],\n       [0., 0., 1., 0.],\n       ...,\n       [0., 1., 0., 0.],\n       [0., 0., 0., 1.],\n       [0., 1., 0., 0.]], dtype=float32)"
     },
     "execution_count": 98,
     "metadata": {},
     "output_type": "execute_result"
    }
   ],
   "source": [
    "# one hot encode y\n",
    "y_test = to_categorical(y_test)\n",
    "# Eliminar la primera columna\n",
    "y_test = y_test[:, 1:]\n",
    "y_test"
   ],
   "metadata": {
    "collapsed": false
   }
  },
  {
   "cell_type": "code",
   "execution_count": 111,
   "outputs": [
    {
     "data": {
      "text/plain": "((17376, 1), (17376, 4), (9624, 1, 1), (9624, 4))"
     },
     "execution_count": 111,
     "metadata": {},
     "output_type": "execute_result"
    }
   ],
   "source": [
    "X_train_normalized.shape, y_train_resampled.shape, X_test.shape, y_test.shape"
   ],
   "metadata": {
    "collapsed": false
   }
  },
  {
   "cell_type": "code",
   "execution_count": 140,
   "outputs": [],
   "source": [
    "import optuna\n",
    "from sklearn.metrics import f1_score\n",
    "from sklearn.model_selection import cross_val_score"
   ],
   "metadata": {
    "collapsed": false
   }
  },
  {
   "cell_type": "code",
   "execution_count": 142,
   "outputs": [
    {
     "name": "stderr",
     "output_type": "stream",
     "text": [
      "\u001B[32m[I 2023-05-12 00:44:28,972]\u001B[0m A new study created in memory with name: no-name-2da4fb7f-3aaf-4fff-9e46-6e56ce63885a\u001B[0m\n",
      "\u001B[32m[I 2023-05-12 00:44:34,375]\u001B[0m Trial 0 finished with value: 0.4315453829413135 and parameters: {'n_estimators': 68, 'criterion': 'gini', 'max_depth': 41, 'min_samples_split': 4, 'min_samples_leaf': 2}. Best is trial 0 with value: 0.4315453829413135.\u001B[0m\n",
      "\u001B[32m[I 2023-05-12 00:44:39,352]\u001B[0m Trial 1 finished with value: 0.4071396396072239 and parameters: {'n_estimators': 66, 'criterion': 'entropy', 'max_depth': 25, 'min_samples_split': 8, 'min_samples_leaf': 4}. Best is trial 0 with value: 0.4315453829413135.\u001B[0m\n",
      "\u001B[32m[I 2023-05-12 00:45:00,916]\u001B[0m Trial 2 finished with value: 0.4101134747390677 and parameters: {'n_estimators': 367, 'criterion': 'entropy', 'max_depth': 19, 'min_samples_split': 3, 'min_samples_leaf': 4}. Best is trial 0 with value: 0.4315453829413135.\u001B[0m\n",
      "\u001B[32m[I 2023-05-12 00:45:11,964]\u001B[0m Trial 3 finished with value: 0.4070012207509694 and parameters: {'n_estimators': 331, 'criterion': 'entropy', 'max_depth': 22, 'min_samples_split': 8, 'min_samples_leaf': 3}. Best is trial 0 with value: 0.4315453829413135.\u001B[0m\n",
      "\u001B[32m[I 2023-05-12 00:45:15,642]\u001B[0m Trial 4 finished with value: 0.4278349036791737 and parameters: {'n_estimators': 87, 'criterion': 'entropy', 'max_depth': 7, 'min_samples_split': 9, 'min_samples_leaf': 1}. Best is trial 0 with value: 0.4315453829413135.\u001B[0m\n",
      "\u001B[32m[I 2023-05-12 00:45:20,802]\u001B[0m Trial 5 finished with value: 0.41877502612133377 and parameters: {'n_estimators': 155, 'criterion': 'entropy', 'max_depth': 16, 'min_samples_split': 7, 'min_samples_leaf': 3}. Best is trial 0 with value: 0.4315453829413135.\u001B[0m\n",
      "\u001B[32m[I 2023-05-12 00:45:33,219]\u001B[0m Trial 6 finished with value: 0.41408505924132405 and parameters: {'n_estimators': 391, 'criterion': 'gini', 'max_depth': 14, 'min_samples_split': 5, 'min_samples_leaf': 3}. Best is trial 0 with value: 0.4315453829413135.\u001B[0m\n",
      "\u001B[32m[I 2023-05-12 00:45:42,447]\u001B[0m Trial 7 finished with value: 0.38155255284167944 and parameters: {'n_estimators': 312, 'criterion': 'entropy', 'max_depth': 6, 'min_samples_split': 8, 'min_samples_leaf': 2}. Best is trial 0 with value: 0.4315453829413135.\u001B[0m\n",
      "\u001B[32m[I 2023-05-12 00:45:49,546]\u001B[0m Trial 8 finished with value: 0.47613110832548494 and parameters: {'n_estimators': 197, 'criterion': 'entropy', 'max_depth': 45, 'min_samples_split': 5, 'min_samples_leaf': 1}. Best is trial 8 with value: 0.47613110832548494.\u001B[0m\n",
      "\u001B[32m[I 2023-05-12 00:45:54,303]\u001B[0m Trial 9 finished with value: 0.40833902934257804 and parameters: {'n_estimators': 102, 'criterion': 'gini', 'max_depth': 42, 'min_samples_split': 5, 'min_samples_leaf': 5}. Best is trial 8 with value: 0.47613110832548494.\u001B[0m\n",
      "\u001B[32m[I 2023-05-12 00:46:01,647]\u001B[0m Trial 10 finished with value: 0.4757522008420622 and parameters: {'n_estimators': 204, 'criterion': 'gini', 'max_depth': 50, 'min_samples_split': 2, 'min_samples_leaf': 1}. Best is trial 8 with value: 0.47613110832548494.\u001B[0m\n",
      "\u001B[32m[I 2023-05-12 00:46:09,248]\u001B[0m Trial 11 finished with value: 0.4757522008420622 and parameters: {'n_estimators': 218, 'criterion': 'gini', 'max_depth': 49, 'min_samples_split': 2, 'min_samples_leaf': 1}. Best is trial 8 with value: 0.47613110832548494.\u001B[0m\n",
      "\u001B[32m[I 2023-05-12 00:46:15,970]\u001B[0m Trial 12 finished with value: 0.4757522008420622 and parameters: {'n_estimators': 189, 'criterion': 'gini', 'max_depth': 32, 'min_samples_split': 2, 'min_samples_leaf': 1}. Best is trial 8 with value: 0.47613110832548494.\u001B[0m\n",
      "\u001B[32m[I 2023-05-12 00:46:21,266]\u001B[0m Trial 13 finished with value: 0.4189528328328473 and parameters: {'n_estimators': 137, 'criterion': 'gini', 'max_depth': 49, 'min_samples_split': 6, 'min_samples_leaf': 2}. Best is trial 8 with value: 0.47613110832548494.\u001B[0m\n",
      "\u001B[32m[I 2023-05-12 00:46:29,721]\u001B[0m Trial 14 finished with value: 0.47613110832548494 and parameters: {'n_estimators': 237, 'criterion': 'entropy', 'max_depth': 34, 'min_samples_split': 4, 'min_samples_leaf': 1}. Best is trial 8 with value: 0.47613110832548494.\u001B[0m\n",
      "\u001B[32m[I 2023-05-12 00:46:38,498]\u001B[0m Trial 15 finished with value: 0.4189528328328473 and parameters: {'n_estimators': 267, 'criterion': 'entropy', 'max_depth': 31, 'min_samples_split': 4, 'min_samples_leaf': 2}. Best is trial 8 with value: 0.47613110832548494.\u001B[0m\n",
      "\u001B[32m[I 2023-05-12 00:46:55,476]\u001B[0m Trial 16 finished with value: 0.47613110832548494 and parameters: {'n_estimators': 497, 'criterion': 'entropy', 'max_depth': 32, 'min_samples_split': 6, 'min_samples_leaf': 1}. Best is trial 8 with value: 0.47613110832548494.\u001B[0m\n",
      "\u001B[32m[I 2023-05-12 00:47:00,614]\u001B[0m Trial 17 finished with value: 0.4189528328328473 and parameters: {'n_estimators': 124, 'criterion': 'entropy', 'max_depth': 34, 'min_samples_split': 4, 'min_samples_leaf': 2}. Best is trial 8 with value: 0.47613110832548494.\u001B[0m\n",
      "\u001B[32m[I 2023-05-12 00:47:09,098]\u001B[0m Trial 18 finished with value: 0.40719364632853716 and parameters: {'n_estimators': 239, 'criterion': 'entropy', 'max_depth': 25, 'min_samples_split': 10, 'min_samples_leaf': 4}. Best is trial 8 with value: 0.47613110832548494.\u001B[0m\n",
      "\u001B[32m[I 2023-05-12 00:47:15,124]\u001B[0m Trial 19 finished with value: 0.46600112177236974 and parameters: {'n_estimators': 165, 'criterion': 'entropy', 'max_depth': 12, 'min_samples_split': 5, 'min_samples_leaf': 1}. Best is trial 8 with value: 0.47613110832548494.\u001B[0m\n"
     ]
    }
   ],
   "source": [
    "def objective(trial):\n",
    "    # Definir los posibles rangos de valores para los hiperparámetros que se quieren probar\n",
    "    params = {\n",
    "        'n_estimators': trial.suggest_int('n_estimators', 50, 500, log=True),\n",
    "        'criterion': trial.suggest_categorical('criterion', ['gini', 'entropy']),\n",
    "        'max_depth': trial.suggest_int('max_depth', 5, 50, log=True),\n",
    "        'min_samples_split': trial.suggest_int('min_samples_split', 2, 10),\n",
    "        'min_samples_leaf': trial.suggest_int('min_samples_leaf', 1, 5),\n",
    "        'class_weight': 'balanced',\n",
    "        'n_jobs': -1\n",
    "    }\n",
    "\n",
    "    # Crear el modelo ExtraTreesClassifier con los hiperparámetros sugeridos por Optuna\n",
    "    etc = ExtraTreesClassifier(random_state=42, **params)\n",
    "\n",
    "    # Calcular el F1-Score utilizando la validación cruzada con 5 particiones\n",
    "    f1_scores = cross_val_score(etc, X_train_normalized, y_train_resampled, cv=5, scoring='f1_micro')\n",
    "\n",
    "    # Devolver el valor medio del F1-Score como objetivo a optimizar\n",
    "    return np.mean(f1_scores)\n",
    "\n",
    "\n",
    "# Crear un objeto Optuna Study y optimizar el modelo\n",
    "study = optuna.create_study(direction='maximize')\n",
    "study.optimize(objective, n_trials=20)"
   ],
   "metadata": {
    "collapsed": false
   }
  },
  {
   "cell_type": "code",
   "execution_count": 144,
   "outputs": [
    {
     "data": {
      "text/plain": "({'n_estimators': 197,\n  'criterion': 'entropy',\n  'max_depth': 45,\n  'min_samples_split': 5,\n  'min_samples_leaf': 1},\n 0.47613110832548494)"
     },
     "execution_count": 144,
     "metadata": {},
     "output_type": "execute_result"
    }
   ],
   "source": [
    "# Obtener los mejores hiperparámetros y el F1-Score correspondiente\n",
    "best_params = study.best_params\n",
    "best_score = study.best_value\n",
    "best_params, best_score"
   ],
   "metadata": {
    "collapsed": false
   }
  },
  {
   "cell_type": "code",
   "execution_count": 145,
   "outputs": [
    {
     "data": {
      "text/plain": "ExtraTreesClassifier(criterion='entropy', max_depth=45, min_samples_split=5,\n                     n_estimators=197, random_state=42)"
     },
     "execution_count": 145,
     "metadata": {},
     "output_type": "execute_result"
    }
   ],
   "source": [
    "# Crear el modelo ExtraTreesClassifier con los mejores hiperparámetros y ajustarlo a los datos\n",
    "best_etc = ExtraTreesClassifier(random_state=42, **best_params)\n",
    "best_etc.fit(X_train_normalized, y_train_resampled)"
   ],
   "metadata": {
    "collapsed": false
   }
  },
  {
   "cell_type": "code",
   "execution_count": 146,
   "outputs": [
    {
     "data": {
      "text/plain": "0.38673483880130666"
     },
     "execution_count": 146,
     "metadata": {},
     "output_type": "execute_result"
    }
   ],
   "source": [
    "# Hacer predicciones en los datos de prueba (reemplazar con tus propios datos) y calcular el F1-Score\n",
    "y_pred = best_etc.predict(X_test_normalized)\n",
    "f1 = f1_score(y_test, y_pred, average=\"micro\")\n",
    "f1"
   ],
   "metadata": {
    "collapsed": false
   }
  },
  {
   "cell_type": "code",
   "execution_count": null,
   "outputs": [],
   "source": [],
   "metadata": {
    "collapsed": false
   }
  },
  {
   "cell_type": "code",
   "execution_count": null,
   "outputs": [],
   "source": [],
   "metadata": {
    "collapsed": false
   }
  }
 ],
 "metadata": {
  "kernelspec": {
   "display_name": "Python 3",
   "language": "python",
   "name": "python3"
  },
  "language_info": {
   "codemirror_mode": {
    "name": "ipython",
    "version": 2
   },
   "file_extension": ".py",
   "mimetype": "text/x-python",
   "name": "python",
   "nbconvert_exporter": "python",
   "pygments_lexer": "ipython2",
   "version": "2.7.6"
  },
  "colab": {
   "provenance": []
  }
 },
 "nbformat": 4,
 "nbformat_minor": 0
}
